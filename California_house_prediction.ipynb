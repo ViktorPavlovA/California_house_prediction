{
  "nbformat": 4,
  "nbformat_minor": 0,
  "metadata": {
    "colab": {
      "name": "California_house_prediction.ipynb",
      "provenance": [],
      "collapsed_sections": []
    },
    "kernelspec": {
      "name": "python3",
      "display_name": "Python 3"
    },
    "language_info": {
      "name": "python"
    },
    "accelerator": "GPU",
    "gpuClass": "standard"
  },
  "cells": [
    {
      "cell_type": "markdown",
      "source": [
        "#Для начала загрузим датасеты с гита,  потом присоединим диск\n",
        "\n",
        "Источники вдохновения\n",
        "1. https://www.youtube.com/watch?v=BuUkDZoofuI\n",
        "2. https://proglib.io/p/kaggle-za-30-minut-razbiraemsya-s-sorevnovaniem-house-prices-2021-09-28\n"
      ],
      "metadata": {
        "id": "3U-HJ4N2c8R3"
      }
    },
    {
      "cell_type": "code",
      "source": [
        "!git clone https://github.com/PurdueSIGAI/Kaggle-Fall-2018.git "
      ],
      "metadata": {
        "colab": {
          "base_uri": "https://localhost:8080/"
        },
        "id": "zujCgNXyg68o",
        "outputId": "0723563f-e89d-4e42-8a6b-5e55030d076d"
      },
      "execution_count": 1,
      "outputs": [
        {
          "output_type": "stream",
          "name": "stdout",
          "text": [
            "Cloning into 'Kaggle-Fall-2018'...\n",
            "remote: Enumerating objects: 15, done.\u001b[K\n",
            "remote: Total 15 (delta 0), reused 0 (delta 0), pack-reused 15\u001b[K\n",
            "Unpacking objects: 100% (15/15), done.\n"
          ]
        }
      ]
    },
    {
      "cell_type": "code",
      "source": [
        "from google.colab import drive\n",
        "drive.mount('/content/drive/')"
      ],
      "metadata": {
        "colab": {
          "base_uri": "https://localhost:8080/"
        },
        "id": "lPUiIipykyhj",
        "outputId": "fd42eeba-a29a-4c8c-a25e-367f195428b7"
      },
      "execution_count": 2,
      "outputs": [
        {
          "output_type": "stream",
          "name": "stdout",
          "text": [
            "Mounted at /content/drive/\n"
          ]
        }
      ]
    },
    {
      "cell_type": "code",
      "source": [
        "!ls"
      ],
      "metadata": {
        "colab": {
          "base_uri": "https://localhost:8080/"
        },
        "id": "VFVFfxS6lEAC",
        "outputId": "30872873-1f46-45e6-e4d9-fb01780f654a"
      },
      "execution_count": 3,
      "outputs": [
        {
          "output_type": "stream",
          "name": "stdout",
          "text": [
            "drive  Kaggle-Fall-2018  sample_data\n"
          ]
        }
      ]
    },
    {
      "cell_type": "code",
      "source": [
        "import os"
      ],
      "metadata": {
        "id": "N2g0016ulHpr"
      },
      "execution_count": 4,
      "outputs": []
    },
    {
      "cell_type": "code",
      "source": [
        "os.rename(\"Kaggle-Fall-2018\",\"dataset\")"
      ],
      "metadata": {
        "id": "b7jfMR6ylKI0"
      },
      "execution_count": 5,
      "outputs": []
    },
    {
      "cell_type": "code",
      "source": [
        "%cd dataset/"
      ],
      "metadata": {
        "colab": {
          "base_uri": "https://localhost:8080/"
        },
        "id": "GB7s0aaZlhgj",
        "outputId": "de14e716-985f-4748-d09d-22ff054e6ec8"
      },
      "execution_count": 6,
      "outputs": [
        {
          "output_type": "stream",
          "name": "stdout",
          "text": [
            "/content/dataset\n"
          ]
        }
      ]
    },
    {
      "cell_type": "code",
      "source": [
        "!ls"
      ],
      "metadata": {
        "colab": {
          "base_uri": "https://localhost:8080/"
        },
        "id": "T3AtR6z4ln0r",
        "outputId": "6df6648d-d9a1-47f2-e197-ed4f3c36390d"
      },
      "execution_count": 7,
      "outputs": [
        {
          "output_type": "stream",
          "name": "stdout",
          "text": [
            "california_housing_test.csv  california_housing_train.csv  README.md\n"
          ]
        }
      ]
    },
    {
      "cell_type": "markdown",
      "source": [
        "Подгрузим библиотеки, которые нам понадобятся на первом этапе, т.е для обработки"
      ],
      "metadata": {
        "id": "eaYMJXmcg7WV"
      }
    },
    {
      "cell_type": "code",
      "execution_count": 8,
      "metadata": {
        "id": "J4MDXqdNc2J6"
      },
      "outputs": [],
      "source": [
        "from sklearn.datasets import fetch_california_housing\n",
        "from sklearn.preprocessing import MinMaxScaler\n",
        "from sklearn.model_selection import train_test_split\n",
        "import matplotlib.pyplot as plt\n",
        "import numpy as np\n",
        "import pandas as pd\n",
        "import matplotlib\n",
        "#для графиков\n",
        "matplotlib.rcParams['figure.figsize'] = (15.0,7.0)\n",
        "plt.style.use('dark_background')\n"
      ]
    },
    {
      "cell_type": "code",
      "source": [
        "table = pd.read_csv(\"california_housing_train.csv\")"
      ],
      "metadata": {
        "id": "4FbrcU5Cl5ec"
      },
      "execution_count": 9,
      "outputs": []
    },
    {
      "cell_type": "code",
      "source": [
        "table"
      ],
      "metadata": {
        "colab": {
          "base_uri": "https://localhost:8080/",
          "height": 488
        },
        "id": "n5-jtMHomHUi",
        "outputId": "12a9a893-75cb-4593-a46d-6c2302817a74"
      },
      "execution_count": 10,
      "outputs": [
        {
          "output_type": "execute_result",
          "data": {
            "text/plain": [
              "       longitude  latitude  housing_median_age  total_rooms  total_bedrooms  \\\n",
              "0        -122.00     37.55                  27         6103            1249   \n",
              "1        -122.07     37.93                  25         7201            1521   \n",
              "2        -118.02     33.90                  34         2678             511   \n",
              "3        -121.79     39.73                   8         5690            1189   \n",
              "4        -120.90     39.93                  23         2679             546   \n",
              "...          ...       ...                 ...          ...             ...   \n",
              "13593    -118.20     34.21                  40         1477             228   \n",
              "13594    -121.29     38.14                  27          836             132   \n",
              "13595    -118.17     33.84                  45         1533             331   \n",
              "13596    -119.29     36.31                  34         1439             253   \n",
              "13597    -121.07     39.15                  15         6828            1319   \n",
              "\n",
              "       population  households  median_income  median_house_value  \n",
              "0            3026        1134         4.1591              332400  \n",
              "1            3264        1433         3.7433              252100  \n",
              "2            1540         497         4.4954              202900  \n",
              "3            2887        1077         3.0625              116300  \n",
              "4            1424         529         2.8812               81900  \n",
              "...           ...         ...            ...                 ...  \n",
              "13593         609         224         7.8375              500001  \n",
              "13594         303         133         3.8750              127400  \n",
              "13595         791         335         3.4605              186600  \n",
              "13596         607         223         3.0972               82800  \n",
              "13597        3002        1318         2.4726              143400  \n",
              "\n",
              "[13598 rows x 9 columns]"
            ],
            "text/html": [
              "\n",
              "  <div id=\"df-f6f74b79-0300-4d7f-a8b5-c3e80d0f62ea\">\n",
              "    <div class=\"colab-df-container\">\n",
              "      <div>\n",
              "<style scoped>\n",
              "    .dataframe tbody tr th:only-of-type {\n",
              "        vertical-align: middle;\n",
              "    }\n",
              "\n",
              "    .dataframe tbody tr th {\n",
              "        vertical-align: top;\n",
              "    }\n",
              "\n",
              "    .dataframe thead th {\n",
              "        text-align: right;\n",
              "    }\n",
              "</style>\n",
              "<table border=\"1\" class=\"dataframe\">\n",
              "  <thead>\n",
              "    <tr style=\"text-align: right;\">\n",
              "      <th></th>\n",
              "      <th>longitude</th>\n",
              "      <th>latitude</th>\n",
              "      <th>housing_median_age</th>\n",
              "      <th>total_rooms</th>\n",
              "      <th>total_bedrooms</th>\n",
              "      <th>population</th>\n",
              "      <th>households</th>\n",
              "      <th>median_income</th>\n",
              "      <th>median_house_value</th>\n",
              "    </tr>\n",
              "  </thead>\n",
              "  <tbody>\n",
              "    <tr>\n",
              "      <th>0</th>\n",
              "      <td>-122.00</td>\n",
              "      <td>37.55</td>\n",
              "      <td>27</td>\n",
              "      <td>6103</td>\n",
              "      <td>1249</td>\n",
              "      <td>3026</td>\n",
              "      <td>1134</td>\n",
              "      <td>4.1591</td>\n",
              "      <td>332400</td>\n",
              "    </tr>\n",
              "    <tr>\n",
              "      <th>1</th>\n",
              "      <td>-122.07</td>\n",
              "      <td>37.93</td>\n",
              "      <td>25</td>\n",
              "      <td>7201</td>\n",
              "      <td>1521</td>\n",
              "      <td>3264</td>\n",
              "      <td>1433</td>\n",
              "      <td>3.7433</td>\n",
              "      <td>252100</td>\n",
              "    </tr>\n",
              "    <tr>\n",
              "      <th>2</th>\n",
              "      <td>-118.02</td>\n",
              "      <td>33.90</td>\n",
              "      <td>34</td>\n",
              "      <td>2678</td>\n",
              "      <td>511</td>\n",
              "      <td>1540</td>\n",
              "      <td>497</td>\n",
              "      <td>4.4954</td>\n",
              "      <td>202900</td>\n",
              "    </tr>\n",
              "    <tr>\n",
              "      <th>3</th>\n",
              "      <td>-121.79</td>\n",
              "      <td>39.73</td>\n",
              "      <td>8</td>\n",
              "      <td>5690</td>\n",
              "      <td>1189</td>\n",
              "      <td>2887</td>\n",
              "      <td>1077</td>\n",
              "      <td>3.0625</td>\n",
              "      <td>116300</td>\n",
              "    </tr>\n",
              "    <tr>\n",
              "      <th>4</th>\n",
              "      <td>-120.90</td>\n",
              "      <td>39.93</td>\n",
              "      <td>23</td>\n",
              "      <td>2679</td>\n",
              "      <td>546</td>\n",
              "      <td>1424</td>\n",
              "      <td>529</td>\n",
              "      <td>2.8812</td>\n",
              "      <td>81900</td>\n",
              "    </tr>\n",
              "    <tr>\n",
              "      <th>...</th>\n",
              "      <td>...</td>\n",
              "      <td>...</td>\n",
              "      <td>...</td>\n",
              "      <td>...</td>\n",
              "      <td>...</td>\n",
              "      <td>...</td>\n",
              "      <td>...</td>\n",
              "      <td>...</td>\n",
              "      <td>...</td>\n",
              "    </tr>\n",
              "    <tr>\n",
              "      <th>13593</th>\n",
              "      <td>-118.20</td>\n",
              "      <td>34.21</td>\n",
              "      <td>40</td>\n",
              "      <td>1477</td>\n",
              "      <td>228</td>\n",
              "      <td>609</td>\n",
              "      <td>224</td>\n",
              "      <td>7.8375</td>\n",
              "      <td>500001</td>\n",
              "    </tr>\n",
              "    <tr>\n",
              "      <th>13594</th>\n",
              "      <td>-121.29</td>\n",
              "      <td>38.14</td>\n",
              "      <td>27</td>\n",
              "      <td>836</td>\n",
              "      <td>132</td>\n",
              "      <td>303</td>\n",
              "      <td>133</td>\n",
              "      <td>3.8750</td>\n",
              "      <td>127400</td>\n",
              "    </tr>\n",
              "    <tr>\n",
              "      <th>13595</th>\n",
              "      <td>-118.17</td>\n",
              "      <td>33.84</td>\n",
              "      <td>45</td>\n",
              "      <td>1533</td>\n",
              "      <td>331</td>\n",
              "      <td>791</td>\n",
              "      <td>335</td>\n",
              "      <td>3.4605</td>\n",
              "      <td>186600</td>\n",
              "    </tr>\n",
              "    <tr>\n",
              "      <th>13596</th>\n",
              "      <td>-119.29</td>\n",
              "      <td>36.31</td>\n",
              "      <td>34</td>\n",
              "      <td>1439</td>\n",
              "      <td>253</td>\n",
              "      <td>607</td>\n",
              "      <td>223</td>\n",
              "      <td>3.0972</td>\n",
              "      <td>82800</td>\n",
              "    </tr>\n",
              "    <tr>\n",
              "      <th>13597</th>\n",
              "      <td>-121.07</td>\n",
              "      <td>39.15</td>\n",
              "      <td>15</td>\n",
              "      <td>6828</td>\n",
              "      <td>1319</td>\n",
              "      <td>3002</td>\n",
              "      <td>1318</td>\n",
              "      <td>2.4726</td>\n",
              "      <td>143400</td>\n",
              "    </tr>\n",
              "  </tbody>\n",
              "</table>\n",
              "<p>13598 rows × 9 columns</p>\n",
              "</div>\n",
              "      <button class=\"colab-df-convert\" onclick=\"convertToInteractive('df-f6f74b79-0300-4d7f-a8b5-c3e80d0f62ea')\"\n",
              "              title=\"Convert this dataframe to an interactive table.\"\n",
              "              style=\"display:none;\">\n",
              "        \n",
              "  <svg xmlns=\"http://www.w3.org/2000/svg\" height=\"24px\"viewBox=\"0 0 24 24\"\n",
              "       width=\"24px\">\n",
              "    <path d=\"M0 0h24v24H0V0z\" fill=\"none\"/>\n",
              "    <path d=\"M18.56 5.44l.94 2.06.94-2.06 2.06-.94-2.06-.94-.94-2.06-.94 2.06-2.06.94zm-11 1L8.5 8.5l.94-2.06 2.06-.94-2.06-.94L8.5 2.5l-.94 2.06-2.06.94zm10 10l.94 2.06.94-2.06 2.06-.94-2.06-.94-.94-2.06-.94 2.06-2.06.94z\"/><path d=\"M17.41 7.96l-1.37-1.37c-.4-.4-.92-.59-1.43-.59-.52 0-1.04.2-1.43.59L10.3 9.45l-7.72 7.72c-.78.78-.78 2.05 0 2.83L4 21.41c.39.39.9.59 1.41.59.51 0 1.02-.2 1.41-.59l7.78-7.78 2.81-2.81c.8-.78.8-2.07 0-2.86zM5.41 20L4 18.59l7.72-7.72 1.47 1.35L5.41 20z\"/>\n",
              "  </svg>\n",
              "      </button>\n",
              "      \n",
              "  <style>\n",
              "    .colab-df-container {\n",
              "      display:flex;\n",
              "      flex-wrap:wrap;\n",
              "      gap: 12px;\n",
              "    }\n",
              "\n",
              "    .colab-df-convert {\n",
              "      background-color: #E8F0FE;\n",
              "      border: none;\n",
              "      border-radius: 50%;\n",
              "      cursor: pointer;\n",
              "      display: none;\n",
              "      fill: #1967D2;\n",
              "      height: 32px;\n",
              "      padding: 0 0 0 0;\n",
              "      width: 32px;\n",
              "    }\n",
              "\n",
              "    .colab-df-convert:hover {\n",
              "      background-color: #E2EBFA;\n",
              "      box-shadow: 0px 1px 2px rgba(60, 64, 67, 0.3), 0px 1px 3px 1px rgba(60, 64, 67, 0.15);\n",
              "      fill: #174EA6;\n",
              "    }\n",
              "\n",
              "    [theme=dark] .colab-df-convert {\n",
              "      background-color: #3B4455;\n",
              "      fill: #D2E3FC;\n",
              "    }\n",
              "\n",
              "    [theme=dark] .colab-df-convert:hover {\n",
              "      background-color: #434B5C;\n",
              "      box-shadow: 0px 1px 3px 1px rgba(0, 0, 0, 0.15);\n",
              "      filter: drop-shadow(0px 1px 2px rgba(0, 0, 0, 0.3));\n",
              "      fill: #FFFFFF;\n",
              "    }\n",
              "  </style>\n",
              "\n",
              "      <script>\n",
              "        const buttonEl =\n",
              "          document.querySelector('#df-f6f74b79-0300-4d7f-a8b5-c3e80d0f62ea button.colab-df-convert');\n",
              "        buttonEl.style.display =\n",
              "          google.colab.kernel.accessAllowed ? 'block' : 'none';\n",
              "\n",
              "        async function convertToInteractive(key) {\n",
              "          const element = document.querySelector('#df-f6f74b79-0300-4d7f-a8b5-c3e80d0f62ea');\n",
              "          const dataTable =\n",
              "            await google.colab.kernel.invokeFunction('convertToInteractive',\n",
              "                                                     [key], {});\n",
              "          if (!dataTable) return;\n",
              "\n",
              "          const docLinkHtml = 'Like what you see? Visit the ' +\n",
              "            '<a target=\"_blank\" href=https://colab.research.google.com/notebooks/data_table.ipynb>data table notebook</a>'\n",
              "            + ' to learn more about interactive tables.';\n",
              "          element.innerHTML = '';\n",
              "          dataTable['output_type'] = 'display_data';\n",
              "          await google.colab.output.renderOutput(dataTable, element);\n",
              "          const docLink = document.createElement('div');\n",
              "          docLink.innerHTML = docLinkHtml;\n",
              "          element.appendChild(docLink);\n",
              "        }\n",
              "      </script>\n",
              "    </div>\n",
              "  </div>\n",
              "  "
            ]
          },
          "metadata": {},
          "execution_count": 10
        }
      ]
    },
    {
      "cell_type": "markdown",
      "source": [
        "Давайте посмотрим на кореляцию мб можно редуцировать размер датасета"
      ],
      "metadata": {
        "id": "L3_HUSXHmRJ_"
      }
    },
    {
      "cell_type": "code",
      "source": [
        "import seaborn as sns"
      ],
      "metadata": {
        "id": "9TjIRcSFJZLB"
      },
      "execution_count": 11,
      "outputs": []
    },
    {
      "cell_type": "code",
      "source": [
        "sns.distplot(table['median_house_value'])"
      ],
      "metadata": {
        "colab": {
          "base_uri": "https://localhost:8080/",
          "height": 421
        },
        "id": "nxoLKh9zJiDh",
        "outputId": "473f46c6-e8b5-48dd-ca21-7e805d4e13c3"
      },
      "execution_count": 12,
      "outputs": [
        {
          "output_type": "stream",
          "name": "stderr",
          "text": [
            "/usr/local/lib/python3.7/dist-packages/seaborn/distributions.py:2619: FutureWarning: `distplot` is a deprecated function and will be removed in a future version. Please adapt your code to use either `displot` (a figure-level function with similar flexibility) or `histplot` (an axes-level function for histograms).\n",
            "  warnings.warn(msg, FutureWarning)\n"
          ]
        },
        {
          "output_type": "execute_result",
          "data": {
            "text/plain": [
              "<matplotlib.axes._subplots.AxesSubplot at 0x7efd1ef52210>"
            ]
          },
          "metadata": {},
          "execution_count": 12
        },
        {
          "output_type": "display_data",
          "data": {
            "text/plain": [
              "<Figure size 1080x504 with 1 Axes>"
            ],
            "image/png": "[encoded data removed]"
          },
          "metadata": {}
        }
      ]
    },
    {
      "cell_type": "code",
      "source": [
        "# Рассчитываем асимметрию и эксцесс\n",
        "print(\"Ассиметрия: %f\" % table['median_house_value'].skew())\n",
        "print(\"Эксцесс: %f\" % table['median_house_value'].kurt())"
      ],
      "metadata": {
        "colab": {
          "base_uri": "https://localhost:8080/"
        },
        "id": "BIDB-fWbQtiG",
        "outputId": "1ad11f18-c221-4541-f79a-c6e8a6996fee"
      },
      "execution_count": 13,
      "outputs": [
        {
          "output_type": "stream",
          "name": "stdout",
          "text": [
            "Ассиметрия: 0.976350\n",
            "Эксцесс: 0.327735\n"
          ]
        }
      ]
    },
    {
      "cell_type": "code",
      "source": [
        "from scipy import stats \n",
        "\n",
        "fig = plt.figure(figsize = (14,8))\n",
        "\n",
        "# Распределение на необработанных данных\n",
        "fig.add_subplot(1,2,1)\n",
        "res = stats.probplot(table['median_house_value'], plot=plt)\n",
        "\n",
        "# Распределение при условии, что мы прологарифмировали 'median_house_value'\n",
        "fig.add_subplot(1,2,2)\n",
        "res = stats.probplot(np.log1p(table['median_house_value']), plot=plt)"
      ],
      "metadata": {
        "colab": {
          "base_uri": "https://localhost:8080/",
          "height": 400
        },
        "id": "lPQ7e2eWRJbN",
        "outputId": "3e393442-09c5-425d-97db-87e69bcff23c"
      },
      "execution_count": 14,
      "outputs": [
        {
          "output_type": "display_data",
          "data": {
            "text/plain": [
              "<Figure size 1008x576 with 2 Axes>"
            ],
            "image/png": "[encoded data removed]"
          },
          "metadata": {}
        }
      ]
    },
    {
      "cell_type": "code",
      "source": [
        "table['median_house_value'] = np.log1p(table['median_house_value']) #np.expm1(Y) back function\n"
      ],
      "metadata": {
        "id": "GJFQ9D-gRrC3"
      },
      "execution_count": 15,
      "outputs": []
    },
    {
      "cell_type": "code",
      "source": [
        "table"
      ],
      "metadata": {
        "colab": {
          "base_uri": "https://localhost:8080/",
          "height": 488
        },
        "id": "4Rs9hmjIR2pd",
        "outputId": "276e969d-6c32-4cba-c9a1-a5d6f6869c4e"
      },
      "execution_count": 16,
      "outputs": [
        {
          "output_type": "execute_result",
          "data": {
            "text/plain": [
              "       longitude  latitude  housing_median_age  total_rooms  total_bedrooms  \\\n",
              "0        -122.00     37.55                  27         6103            1249   \n",
              "1        -122.07     37.93                  25         7201            1521   \n",
              "2        -118.02     33.90                  34         2678             511   \n",
              "3        -121.79     39.73                   8         5690            1189   \n",
              "4        -120.90     39.93                  23         2679             546   \n",
              "...          ...       ...                 ...          ...             ...   \n",
              "13593    -118.20     34.21                  40         1477             228   \n",
              "13594    -121.29     38.14                  27          836             132   \n",
              "13595    -118.17     33.84                  45         1533             331   \n",
              "13596    -119.29     36.31                  34         1439             253   \n",
              "13597    -121.07     39.15                  15         6828            1319   \n",
              "\n",
              "       population  households  median_income  median_house_value  \n",
              "0            3026        1134         4.1591           12.714097  \n",
              "1            3264        1433         3.7433           12.437585  \n",
              "2            1540         497         4.4954           12.220473  \n",
              "3            2887        1077         3.0625           11.663937  \n",
              "4            1424         529         2.8812           11.313266  \n",
              "...           ...         ...            ...                 ...  \n",
              "13593         609         224         7.8375           13.122367  \n",
              "13594         303         133         3.8750           11.755095  \n",
              "13595         791         335         3.4605           12.136728  \n",
              "13596         607         223         3.0972           11.324195  \n",
              "13597        3002        1318         2.4726           11.873400  \n",
              "\n",
              "[13598 rows x 9 columns]"
            ],
            "text/html": [
              "\n",
              "  <div id=\"df-2c24238b-5e54-4cff-8730-726c48d8ad09\">\n",
              "    <div class=\"colab-df-container\">\n",
              "      <div>\n",
              "<style scoped>\n",
              "    .dataframe tbody tr th:only-of-type {\n",
              "        vertical-align: middle;\n",
              "    }\n",
              "\n",
              "    .dataframe tbody tr th {\n",
              "        vertical-align: top;\n",
              "    }\n",
              "\n",
              "    .dataframe thead th {\n",
              "        text-align: right;\n",
              "    }\n",
              "</style>\n",
              "<table border=\"1\" class=\"dataframe\">\n",
              "  <thead>\n",
              "    <tr style=\"text-align: right;\">\n",
              "      <th></th>\n",
              "      <th>longitude</th>\n",
              "      <th>latitude</th>\n",
              "      <th>housing_median_age</th>\n",
              "      <th>total_rooms</th>\n",
              "      <th>total_bedrooms</th>\n",
              "      <th>population</th>\n",
              "      <th>households</th>\n",
              "      <th>median_income</th>\n",
              "      <th>median_house_value</th>\n",
              "    </tr>\n",
              "  </thead>\n",
              "  <tbody>\n",
              "    <tr>\n",
              "      <th>0</th>\n",
              "      <td>-122.00</td>\n",
              "      <td>37.55</td>\n",
              "      <td>27</td>\n",
              "      <td>6103</td>\n",
              "      <td>1249</td>\n",
              "      <td>3026</td>\n",
              "      <td>1134</td>\n",
              "      <td>4.1591</td>\n",
              "      <td>12.714097</td>\n",
              "    </tr>\n",
              "    <tr>\n",
              "      <th>1</th>\n",
              "      <td>-122.07</td>\n",
              "      <td>37.93</td>\n",
              "      <td>25</td>\n",
              "      <td>7201</td>\n",
              "      <td>1521</td>\n",
              "      <td>3264</td>\n",
              "      <td>1433</td>\n",
              "      <td>3.7433</td>\n",
              "      <td>12.437585</td>\n",
              "    </tr>\n",
              "    <tr>\n",
              "      <th>2</th>\n",
              "      <td>-118.02</td>\n",
              "      <td>33.90</td>\n",
              "      <td>34</td>\n",
              "      <td>2678</td>\n",
              "      <td>511</td>\n",
              "      <td>1540</td>\n",
              "      <td>497</td>\n",
              "      <td>4.4954</td>\n",
              "      <td>12.220473</td>\n",
              "    </tr>\n",
              "    <tr>\n",
              "      <th>3</th>\n",
              "      <td>-121.79</td>\n",
              "      <td>39.73</td>\n",
              "      <td>8</td>\n",
              "      <td>5690</td>\n",
              "      <td>1189</td>\n",
              "      <td>2887</td>\n",
              "      <td>1077</td>\n",
              "      <td>3.0625</td>\n",
              "      <td>11.663937</td>\n",
              "    </tr>\n",
              "    <tr>\n",
              "      <th>4</th>\n",
              "      <td>-120.90</td>\n",
              "      <td>39.93</td>\n",
              "      <td>23</td>\n",
              "      <td>2679</td>\n",
              "      <td>546</td>\n",
              "      <td>1424</td>\n",
              "      <td>529</td>\n",
              "      <td>2.8812</td>\n",
              "      <td>11.313266</td>\n",
              "    </tr>\n",
              "    <tr>\n",
              "      <th>...</th>\n",
              "      <td>...</td>\n",
              "      <td>...</td>\n",
              "      <td>...</td>\n",
              "      <td>...</td>\n",
              "      <td>...</td>\n",
              "      <td>...</td>\n",
              "      <td>...</td>\n",
              "      <td>...</td>\n",
              "      <td>...</td>\n",
              "    </tr>\n",
              "    <tr>\n",
              "      <th>13593</th>\n",
              "      <td>-118.20</td>\n",
              "      <td>34.21</td>\n",
              "      <td>40</td>\n",
              "      <td>1477</td>\n",
              "      <td>228</td>\n",
              "      <td>609</td>\n",
              "      <td>224</td>\n",
              "      <td>7.8375</td>\n",
              "      <td>13.122367</td>\n",
              "    </tr>\n",
              "    <tr>\n",
              "      <th>13594</th>\n",
              "      <td>-121.29</td>\n",
              "      <td>38.14</td>\n",
              "      <td>27</td>\n",
              "      <td>836</td>\n",
              "      <td>132</td>\n",
              "      <td>303</td>\n",
              "      <td>133</td>\n",
              "      <td>3.8750</td>\n",
              "      <td>11.755095</td>\n",
              "    </tr>\n",
              "    <tr>\n",
              "      <th>13595</th>\n",
              "      <td>-118.17</td>\n",
              "      <td>33.84</td>\n",
              "      <td>45</td>\n",
              "      <td>1533</td>\n",
              "      <td>331</td>\n",
              "      <td>791</td>\n",
              "      <td>335</td>\n",
              "      <td>3.4605</td>\n",
              "      <td>12.136728</td>\n",
              "    </tr>\n",
              "    <tr>\n",
              "      <th>13596</th>\n",
              "      <td>-119.29</td>\n",
              "      <td>36.31</td>\n",
              "      <td>34</td>\n",
              "      <td>1439</td>\n",
              "      <td>253</td>\n",
              "      <td>607</td>\n",
              "      <td>223</td>\n",
              "      <td>3.0972</td>\n",
              "      <td>11.324195</td>\n",
              "    </tr>\n",
              "    <tr>\n",
              "      <th>13597</th>\n",
              "      <td>-121.07</td>\n",
              "      <td>39.15</td>\n",
              "      <td>15</td>\n",
              "      <td>6828</td>\n",
              "      <td>1319</td>\n",
              "      <td>3002</td>\n",
              "      <td>1318</td>\n",
              "      <td>2.4726</td>\n",
              "      <td>11.873400</td>\n",
              "    </tr>\n",
              "  </tbody>\n",
              "</table>\n",
              "<p>13598 rows × 9 columns</p>\n",
              "</div>\n",
              "      <button class=\"colab-df-convert\" onclick=\"convertToInteractive('df-2c24238b-5e54-4cff-8730-726c48d8ad09')\"\n",
              "              title=\"Convert this dataframe to an interactive table.\"\n",
              "              style=\"display:none;\">\n",
              "        \n",
              "  <svg xmlns=\"http://www.w3.org/2000/svg\" height=\"24px\"viewBox=\"0 0 24 24\"\n",
              "       width=\"24px\">\n",
              "    <path d=\"M0 0h24v24H0V0z\" fill=\"none\"/>\n",
              "    <path d=\"M18.56 5.44l.94 2.06.94-2.06 2.06-.94-2.06-.94-.94-2.06-.94 2.06-2.06.94zm-11 1L8.5 8.5l.94-2.06 2.06-.94-2.06-.94L8.5 2.5l-.94 2.06-2.06.94zm10 10l.94 2.06.94-2.06 2.06-.94-2.06-.94-.94-2.06-.94 2.06-2.06.94z\"/><path d=\"M17.41 7.96l-1.37-1.37c-.4-.4-.92-.59-1.43-.59-.52 0-1.04.2-1.43.59L10.3 9.45l-7.72 7.72c-.78.78-.78 2.05 0 2.83L4 21.41c.39.39.9.59 1.41.59.51 0 1.02-.2 1.41-.59l7.78-7.78 2.81-2.81c.8-.78.8-2.07 0-2.86zM5.41 20L4 18.59l7.72-7.72 1.47 1.35L5.41 20z\"/>\n",
              "  </svg>\n",
              "      </button>\n",
              "      \n",
              "  <style>\n",
              "    .colab-df-container {\n",
              "      display:flex;\n",
              "      flex-wrap:wrap;\n",
              "      gap: 12px;\n",
              "    }\n",
              "\n",
              "    .colab-df-convert {\n",
              "      background-color: #E8F0FE;\n",
              "      border: none;\n",
              "      border-radius: 50%;\n",
              "      cursor: pointer;\n",
              "      display: none;\n",
              "      fill: #1967D2;\n",
              "      height: 32px;\n",
              "      padding: 0 0 0 0;\n",
              "      width: 32px;\n",
              "    }\n",
              "\n",
              "    .colab-df-convert:hover {\n",
              "      background-color: #E2EBFA;\n",
              "      box-shadow: 0px 1px 2px rgba(60, 64, 67, 0.3), 0px 1px 3px 1px rgba(60, 64, 67, 0.15);\n",
              "      fill: #174EA6;\n",
              "    }\n",
              "\n",
              "    [theme=dark] .colab-df-convert {\n",
              "      background-color: #3B4455;\n",
              "      fill: #D2E3FC;\n",
              "    }\n",
              "\n",
              "    [theme=dark] .colab-df-convert:hover {\n",
              "      background-color: #434B5C;\n",
              "      box-shadow: 0px 1px 3px 1px rgba(0, 0, 0, 0.15);\n",
              "      filter: drop-shadow(0px 1px 2px rgba(0, 0, 0, 0.3));\n",
              "      fill: #FFFFFF;\n",
              "    }\n",
              "  </style>\n",
              "\n",
              "      <script>\n",
              "        const buttonEl =\n",
              "          document.querySelector('#df-2c24238b-5e54-4cff-8730-726c48d8ad09 button.colab-df-convert');\n",
              "        buttonEl.style.display =\n",
              "          google.colab.kernel.accessAllowed ? 'block' : 'none';\n",
              "\n",
              "        async function convertToInteractive(key) {\n",
              "          const element = document.querySelector('#df-2c24238b-5e54-4cff-8730-726c48d8ad09');\n",
              "          const dataTable =\n",
              "            await google.colab.kernel.invokeFunction('convertToInteractive',\n",
              "                                                     [key], {});\n",
              "          if (!dataTable) return;\n",
              "\n",
              "          const docLinkHtml = 'Like what you see? Visit the ' +\n",
              "            '<a target=\"_blank\" href=https://colab.research.google.com/notebooks/data_table.ipynb>data table notebook</a>'\n",
              "            + ' to learn more about interactive tables.';\n",
              "          element.innerHTML = '';\n",
              "          dataTable['output_type'] = 'display_data';\n",
              "          await google.colab.output.renderOutput(dataTable, element);\n",
              "          const docLink = document.createElement('div');\n",
              "          docLink.innerHTML = docLinkHtml;\n",
              "          element.appendChild(docLink);\n",
              "        }\n",
              "      </script>\n",
              "    </div>\n",
              "  </div>\n",
              "  "
            ]
          },
          "metadata": {},
          "execution_count": 16
        }
      ]
    },
    {
      "cell_type": "code",
      "source": [
        "table.shape"
      ],
      "metadata": {
        "colab": {
          "base_uri": "https://localhost:8080/"
        },
        "id": "WqASasuZeOUR",
        "outputId": "738a01dd-45ff-4410-abea-53fd2e831109"
      },
      "execution_count": 17,
      "outputs": [
        {
          "output_type": "execute_result",
          "data": {
            "text/plain": [
              "(13598, 9)"
            ]
          },
          "metadata": {},
          "execution_count": 17
        }
      ]
    },
    {
      "cell_type": "code",
      "source": [
        "table['median_house_value'].describe()"
      ],
      "metadata": {
        "colab": {
          "base_uri": "https://localhost:8080/"
        },
        "id": "xmnizqb_W7_l",
        "outputId": "334bae51-1a0d-4423-811c-ff7ea8a774bf"
      },
      "execution_count": 18,
      "outputs": [
        {
          "output_type": "execute_result",
          "data": {
            "text/plain": [
              "count    13598.000000\n",
              "mean        12.084213\n",
              "std          0.571224\n",
              "min          9.615805\n",
              "25%         11.689614\n",
              "50%         12.102937\n",
              "75%         12.483708\n",
              "max         13.122367\n",
              "Name: median_house_value, dtype: float64"
            ]
          },
          "metadata": {},
          "execution_count": 18
        }
      ]
    },
    {
      "cell_type": "code",
      "source": [
        "corrmat = table.corr()\n",
        "f, ax = plt.subplots(figsize=(12, 9))\n",
        "sns.heatmap(corrmat,annot=True, vmax=1.0, square=True);"
      ],
      "metadata": {
        "colab": {
          "base_uri": "https://localhost:8080/",
          "height": 598
        },
        "id": "DiPX9O5sPFZH",
        "outputId": "2d874412-6010-4b26-ff07-2b5bb25987b4"
      },
      "execution_count": 19,
      "outputs": [
        {
          "output_type": "display_data",
          "data": {
            "text/plain": [
              "<Figure size 864x648 with 2 Axes>"
            ],
            "image/png": "[encoded data removed]"
          },
          "metadata": {}
        }
      ]
    },
    {
      "cell_type": "markdown",
      "source": [
        "Сократим число коррелирующих признаков"
      ],
      "metadata": {
        "id": "DdDh6ZQcS5rS"
      }
    },
    {
      "cell_type": "code",
      "source": [
        "k = 6 # количество коррелирующих признаков, которое мы хотим увидеть\n",
        "cols = corrmat.nlargest(k, 'median_house_value')['median_house_value'].index\n",
        "cm = np.corrcoef(table[cols].values.T)\n",
        "sns.set(font_scale=1.25)\n",
        "hm = sns.heatmap(cm, cbar=True, annot=True, square=True, \n",
        "                 fmt='.2f', annot_kws={'size': 10}, \n",
        "                 yticklabels=cols.values, xticklabels=cols.values)\n",
        "plt.show()"
      ],
      "metadata": {
        "colab": {
          "base_uri": "https://localhost:8080/",
          "height": 572
        },
        "id": "ftHDKTEoS_xM",
        "outputId": "0656ed8a-69c5-4b69-f5f3-22271b0fd7b7"
      },
      "execution_count": 20,
      "outputs": [
        {
          "output_type": "display_data",
          "data": {
            "text/plain": [
              "<Figure size 1080x504 with 2 Axes>"
            ],
            "image/png": "[encoded data removed]"
          },
          "metadata": {}
        }
      ]
    },
    {
      "cell_type": "markdown",
      "source": [
        "Проверим на наличие выбросов"
      ],
      "metadata": {
        "id": "cPwqpJU1UdNW"
      }
    },
    {
      "cell_type": "code",
      "source": [
        "fig, ax = plt.subplots()\n",
        "ax.scatter(x = table['median_income'], y = table['median_house_value'])\n",
        "plt.ylabel('median_house_value', fontsize=11)\n",
        "plt.xlabel('median_income', fontsize=11)\n",
        "plt.grid(True)\n",
        "plt.style.use('dark_background')\n",
        "plt.show()"
      ],
      "metadata": {
        "colab": {
          "base_uri": "https://localhost:8080/",
          "height": 335
        },
        "id": "qbsyHX18Uil_",
        "outputId": "1c2402e4-87eb-4654-bea0-8428d9ed98ff"
      },
      "execution_count": 21,
      "outputs": [
        {
          "output_type": "display_data",
          "data": {
            "text/plain": [
              "<Figure size 1080x504 with 1 Axes>"
            ],
            "image/png": "[encoded data removed]"
          },
          "metadata": {}
        }
      ]
    },
    {
      "cell_type": "code",
      "source": [
        "# Ликвидируем \n",
        "# Только эти 1 удаления помогут нам улучшить наш показатель на таблице лидеров\n",
        "table1 = table.drop(table[(table['median_income'] > 10)].index) # пример записи & (table['pepega'] < 220000)]"
      ],
      "metadata": {
        "id": "POo7JZ06XQB8"
      },
      "execution_count": 22,
      "outputs": []
    },
    {
      "cell_type": "code",
      "source": [
        "table1.shape"
      ],
      "metadata": {
        "colab": {
          "base_uri": "https://localhost:8080/"
        },
        "id": "-4T_aY89eXbI",
        "outputId": "ffb2fd50-1865-437a-fd09-91160bb2b600"
      },
      "execution_count": 23,
      "outputs": [
        {
          "output_type": "execute_result",
          "data": {
            "text/plain": [
              "(13395, 9)"
            ]
          },
          "metadata": {},
          "execution_count": 23
        }
      ]
    },
    {
      "cell_type": "code",
      "source": [
        "table1"
      ],
      "metadata": {
        "colab": {
          "base_uri": "https://localhost:8080/",
          "height": 488
        },
        "id": "ZVBbswhqeav4",
        "outputId": "28a8fbab-2dae-4cb4-b248-be5bddb17270"
      },
      "execution_count": 24,
      "outputs": [
        {
          "output_type": "execute_result",
          "data": {
            "text/plain": [
              "       longitude  latitude  housing_median_age  total_rooms  total_bedrooms  \\\n",
              "0        -122.00     37.55                  27         6103            1249   \n",
              "1        -122.07     37.93                  25         7201            1521   \n",
              "2        -118.02     33.90                  34         2678             511   \n",
              "3        -121.79     39.73                   8         5690            1189   \n",
              "4        -120.90     39.93                  23         2679             546   \n",
              "...          ...       ...                 ...          ...             ...   \n",
              "13593    -118.20     34.21                  40         1477             228   \n",
              "13594    -121.29     38.14                  27          836             132   \n",
              "13595    -118.17     33.84                  45         1533             331   \n",
              "13596    -119.29     36.31                  34         1439             253   \n",
              "13597    -121.07     39.15                  15         6828            1319   \n",
              "\n",
              "       population  households  median_income  median_house_value  \n",
              "0            3026        1134         4.1591           12.714097  \n",
              "1            3264        1433         3.7433           12.437585  \n",
              "2            1540         497         4.4954           12.220473  \n",
              "3            2887        1077         3.0625           11.663937  \n",
              "4            1424         529         2.8812           11.313266  \n",
              "...           ...         ...            ...                 ...  \n",
              "13593         609         224         7.8375           13.122367  \n",
              "13594         303         133         3.8750           11.755095  \n",
              "13595         791         335         3.4605           12.136728  \n",
              "13596         607         223         3.0972           11.324195  \n",
              "13597        3002        1318         2.4726           11.873400  \n",
              "\n",
              "[13395 rows x 9 columns]"
            ],
            "text/html": [
              "\n",
              "  <div id=\"df-f852f21d-6bfb-4c78-815a-43addae48758\">\n",
              "    <div class=\"colab-df-container\">\n",
              "      <div>\n",
              "<style scoped>\n",
              "    .dataframe tbody tr th:only-of-type {\n",
              "        vertical-align: middle;\n",
              "    }\n",
              "\n",
              "    .dataframe tbody tr th {\n",
              "        vertical-align: top;\n",
              "    }\n",
              "\n",
              "    .dataframe thead th {\n",
              "        text-align: right;\n",
              "    }\n",
              "</style>\n",
              "<table border=\"1\" class=\"dataframe\">\n",
              "  <thead>\n",
              "    <tr style=\"text-align: right;\">\n",
              "      <th></th>\n",
              "      <th>longitude</th>\n",
              "      <th>latitude</th>\n",
              "      <th>housing_median_age</th>\n",
              "      <th>total_rooms</th>\n",
              "      <th>total_bedrooms</th>\n",
              "      <th>population</th>\n",
              "      <th>households</th>\n",
              "      <th>median_income</th>\n",
              "      <th>median_house_value</th>\n",
              "    </tr>\n",
              "  </thead>\n",
              "  <tbody>\n",
              "    <tr>\n",
              "      <th>0</th>\n",
              "      <td>-122.00</td>\n",
              "      <td>37.55</td>\n",
              "      <td>27</td>\n",
              "      <td>6103</td>\n",
              "      <td>1249</td>\n",
              "      <td>3026</td>\n",
              "      <td>1134</td>\n",
              "      <td>4.1591</td>\n",
              "      <td>12.714097</td>\n",
              "    </tr>\n",
              "    <tr>\n",
              "      <th>1</th>\n",
              "      <td>-122.07</td>\n",
              "      <td>37.93</td>\n",
              "      <td>25</td>\n",
              "      <td>7201</td>\n",
              "      <td>1521</td>\n",
              "      <td>3264</td>\n",
              "      <td>1433</td>\n",
              "      <td>3.7433</td>\n",
              "      <td>12.437585</td>\n",
              "    </tr>\n",
              "    <tr>\n",
              "      <th>2</th>\n",
              "      <td>-118.02</td>\n",
              "      <td>33.90</td>\n",
              "      <td>34</td>\n",
              "      <td>2678</td>\n",
              "      <td>511</td>\n",
              "      <td>1540</td>\n",
              "      <td>497</td>\n",
              "      <td>4.4954</td>\n",
              "      <td>12.220473</td>\n",
              "    </tr>\n",
              "    <tr>\n",
              "      <th>3</th>\n",
              "      <td>-121.79</td>\n",
              "      <td>39.73</td>\n",
              "      <td>8</td>\n",
              "      <td>5690</td>\n",
              "      <td>1189</td>\n",
              "      <td>2887</td>\n",
              "      <td>1077</td>\n",
              "      <td>3.0625</td>\n",
              "      <td>11.663937</td>\n",
              "    </tr>\n",
              "    <tr>\n",
              "      <th>4</th>\n",
              "      <td>-120.90</td>\n",
              "      <td>39.93</td>\n",
              "      <td>23</td>\n",
              "      <td>2679</td>\n",
              "      <td>546</td>\n",
              "      <td>1424</td>\n",
              "      <td>529</td>\n",
              "      <td>2.8812</td>\n",
              "      <td>11.313266</td>\n",
              "    </tr>\n",
              "    <tr>\n",
              "      <th>...</th>\n",
              "      <td>...</td>\n",
              "      <td>...</td>\n",
              "      <td>...</td>\n",
              "      <td>...</td>\n",
              "      <td>...</td>\n",
              "      <td>...</td>\n",
              "      <td>...</td>\n",
              "      <td>...</td>\n",
              "      <td>...</td>\n",
              "    </tr>\n",
              "    <tr>\n",
              "      <th>13593</th>\n",
              "      <td>-118.20</td>\n",
              "      <td>34.21</td>\n",
              "      <td>40</td>\n",
              "      <td>1477</td>\n",
              "      <td>228</td>\n",
              "      <td>609</td>\n",
              "      <td>224</td>\n",
              "      <td>7.8375</td>\n",
              "      <td>13.122367</td>\n",
              "    </tr>\n",
              "    <tr>\n",
              "      <th>13594</th>\n",
              "      <td>-121.29</td>\n",
              "      <td>38.14</td>\n",
              "      <td>27</td>\n",
              "      <td>836</td>\n",
              "      <td>132</td>\n",
              "      <td>303</td>\n",
              "      <td>133</td>\n",
              "      <td>3.8750</td>\n",
              "      <td>11.755095</td>\n",
              "    </tr>\n",
              "    <tr>\n",
              "      <th>13595</th>\n",
              "      <td>-118.17</td>\n",
              "      <td>33.84</td>\n",
              "      <td>45</td>\n",
              "      <td>1533</td>\n",
              "      <td>331</td>\n",
              "      <td>791</td>\n",
              "      <td>335</td>\n",
              "      <td>3.4605</td>\n",
              "      <td>12.136728</td>\n",
              "    </tr>\n",
              "    <tr>\n",
              "      <th>13596</th>\n",
              "      <td>-119.29</td>\n",
              "      <td>36.31</td>\n",
              "      <td>34</td>\n",
              "      <td>1439</td>\n",
              "      <td>253</td>\n",
              "      <td>607</td>\n",
              "      <td>223</td>\n",
              "      <td>3.0972</td>\n",
              "      <td>11.324195</td>\n",
              "    </tr>\n",
              "    <tr>\n",
              "      <th>13597</th>\n",
              "      <td>-121.07</td>\n",
              "      <td>39.15</td>\n",
              "      <td>15</td>\n",
              "      <td>6828</td>\n",
              "      <td>1319</td>\n",
              "      <td>3002</td>\n",
              "      <td>1318</td>\n",
              "      <td>2.4726</td>\n",
              "      <td>11.873400</td>\n",
              "    </tr>\n",
              "  </tbody>\n",
              "</table>\n",
              "<p>13395 rows × 9 columns</p>\n",
              "</div>\n",
              "      <button class=\"colab-df-convert\" onclick=\"convertToInteractive('df-f852f21d-6bfb-4c78-815a-43addae48758')\"\n",
              "              title=\"Convert this dataframe to an interactive table.\"\n",
              "              style=\"display:none;\">\n",
              "        \n",
              "  <svg xmlns=\"http://www.w3.org/2000/svg\" height=\"24px\"viewBox=\"0 0 24 24\"\n",
              "       width=\"24px\">\n",
              "    <path d=\"M0 0h24v24H0V0z\" fill=\"none\"/>\n",
              "    <path d=\"M18.56 5.44l.94 2.06.94-2.06 2.06-.94-2.06-.94-.94-2.06-.94 2.06-2.06.94zm-11 1L8.5 8.5l.94-2.06 2.06-.94-2.06-.94L8.5 2.5l-.94 2.06-2.06.94zm10 10l.94 2.06.94-2.06 2.06-.94-2.06-.94-.94-2.06-.94 2.06-2.06.94z\"/><path d=\"M17.41 7.96l-1.37-1.37c-.4-.4-.92-.59-1.43-.59-.52 0-1.04.2-1.43.59L10.3 9.45l-7.72 7.72c-.78.78-.78 2.05 0 2.83L4 21.41c.39.39.9.59 1.41.59.51 0 1.02-.2 1.41-.59l7.78-7.78 2.81-2.81c.8-.78.8-2.07 0-2.86zM5.41 20L4 18.59l7.72-7.72 1.47 1.35L5.41 20z\"/>\n",
              "  </svg>\n",
              "      </button>\n",
              "      \n",
              "  <style>\n",
              "    .colab-df-container {\n",
              "      display:flex;\n",
              "      flex-wrap:wrap;\n",
              "      gap: 12px;\n",
              "    }\n",
              "\n",
              "    .colab-df-convert {\n",
              "      background-color: #E8F0FE;\n",
              "      border: none;\n",
              "      border-radius: 50%;\n",
              "      cursor: pointer;\n",
              "      display: none;\n",
              "      fill: #1967D2;\n",
              "      height: 32px;\n",
              "      padding: 0 0 0 0;\n",
              "      width: 32px;\n",
              "    }\n",
              "\n",
              "    .colab-df-convert:hover {\n",
              "      background-color: #E2EBFA;\n",
              "      box-shadow: 0px 1px 2px rgba(60, 64, 67, 0.3), 0px 1px 3px 1px rgba(60, 64, 67, 0.15);\n",
              "      fill: #174EA6;\n",
              "    }\n",
              "\n",
              "    [theme=dark] .colab-df-convert {\n",
              "      background-color: #3B4455;\n",
              "      fill: #D2E3FC;\n",
              "    }\n",
              "\n",
              "    [theme=dark] .colab-df-convert:hover {\n",
              "      background-color: #434B5C;\n",
              "      box-shadow: 0px 1px 3px 1px rgba(0, 0, 0, 0.15);\n",
              "      filter: drop-shadow(0px 1px 2px rgba(0, 0, 0, 0.3));\n",
              "      fill: #FFFFFF;\n",
              "    }\n",
              "  </style>\n",
              "\n",
              "      <script>\n",
              "        const buttonEl =\n",
              "          document.querySelector('#df-f852f21d-6bfb-4c78-815a-43addae48758 button.colab-df-convert');\n",
              "        buttonEl.style.display =\n",
              "          google.colab.kernel.accessAllowed ? 'block' : 'none';\n",
              "\n",
              "        async function convertToInteractive(key) {\n",
              "          const element = document.querySelector('#df-f852f21d-6bfb-4c78-815a-43addae48758');\n",
              "          const dataTable =\n",
              "            await google.colab.kernel.invokeFunction('convertToInteractive',\n",
              "                                                     [key], {});\n",
              "          if (!dataTable) return;\n",
              "\n",
              "          const docLinkHtml = 'Like what you see? Visit the ' +\n",
              "            '<a target=\"_blank\" href=https://colab.research.google.com/notebooks/data_table.ipynb>data table notebook</a>'\n",
              "            + ' to learn more about interactive tables.';\n",
              "          element.innerHTML = '';\n",
              "          dataTable['output_type'] = 'display_data';\n",
              "          await google.colab.output.renderOutput(dataTable, element);\n",
              "          const docLink = document.createElement('div');\n",
              "          docLink.innerHTML = docLinkHtml;\n",
              "          element.appendChild(docLink);\n",
              "        }\n",
              "      </script>\n",
              "    </div>\n",
              "  </div>\n",
              "  "
            ]
          },
          "metadata": {},
          "execution_count": 24
        }
      ]
    },
    {
      "cell_type": "code",
      "source": [
        "corrmat = table1.corr()\n",
        "f, ax = plt.subplots(figsize=(12, 9))\n",
        "sns.heatmap(corrmat,annot=True, vmax=1.0, square=True);"
      ],
      "metadata": {
        "colab": {
          "base_uri": "https://localhost:8080/",
          "height": 593
        },
        "id": "_hnGf-P9fGNM",
        "outputId": "6ca4a2c5-1bf1-49f6-fd9a-3f348183e2de"
      },
      "execution_count": 25,
      "outputs": [
        {
          "output_type": "display_data",
          "data": {
            "text/plain": [
              "<Figure size 864x648 with 2 Axes>"
            ],
            "image/png": "[encoded data removed]"
          },
          "metadata": {}
        }
      ]
    },
    {
      "cell_type": "code",
      "source": [
        "#выведем пропущенные значения, будет полезно для соревнований\n",
        "table1.isnull().sum().sort_values(ascending=False).head(20)"
      ],
      "metadata": {
        "colab": {
          "base_uri": "https://localhost:8080/"
        },
        "id": "yWkaR5e4db2i",
        "outputId": "2c394672-aa8c-41ea-aeba-2ded279d079f"
      },
      "execution_count": 26,
      "outputs": [
        {
          "output_type": "execute_result",
          "data": {
            "text/plain": [
              "longitude             0\n",
              "latitude              0\n",
              "housing_median_age    0\n",
              "total_rooms           0\n",
              "total_bedrooms        0\n",
              "population            0\n",
              "households            0\n",
              "median_income         0\n",
              "median_house_value    0\n",
              "dtype: int64"
            ]
          },
          "metadata": {},
          "execution_count": 26
        }
      ]
    },
    {
      "cell_type": "markdown",
      "source": [
        "Если в данных есть пробелы то их нужно заполнить"
      ],
      "metadata": {
        "id": "f-N680dNg9LY"
      }
    },
    {
      "cell_type": "markdown",
      "source": [
        "Вернем данные в то состояние, в котором они были (иммется ввиду последний столбец)"
      ],
      "metadata": {
        "id": "KeFpPp3gk00G"
      }
    },
    {
      "cell_type": "code",
      "source": [
        "table1['median_house_value'] = np.expm1(table1['median_house_value']) #np.expm1(Y) back function"
      ],
      "metadata": {
        "id": "fMfj3vQddycB"
      },
      "execution_count": 27,
      "outputs": []
    },
    {
      "cell_type": "code",
      "source": [
        "table1"
      ],
      "metadata": {
        "colab": {
          "base_uri": "https://localhost:8080/",
          "height": 488
        },
        "id": "StQ_h6HXlM9_",
        "outputId": "bd9ff839-b365-44e5-a5b4-665d51641501"
      },
      "execution_count": 28,
      "outputs": [
        {
          "output_type": "execute_result",
          "data": {
            "text/plain": [
              "       longitude  latitude  housing_median_age  total_rooms  total_bedrooms  \\\n",
              "0        -122.00     37.55                  27         6103            1249   \n",
              "1        -122.07     37.93                  25         7201            1521   \n",
              "2        -118.02     33.90                  34         2678             511   \n",
              "3        -121.79     39.73                   8         5690            1189   \n",
              "4        -120.90     39.93                  23         2679             546   \n",
              "...          ...       ...                 ...          ...             ...   \n",
              "13593    -118.20     34.21                  40         1477             228   \n",
              "13594    -121.29     38.14                  27          836             132   \n",
              "13595    -118.17     33.84                  45         1533             331   \n",
              "13596    -119.29     36.31                  34         1439             253   \n",
              "13597    -121.07     39.15                  15         6828            1319   \n",
              "\n",
              "       population  households  median_income  median_house_value  \n",
              "0            3026        1134         4.1591            332400.0  \n",
              "1            3264        1433         3.7433            252100.0  \n",
              "2            1540         497         4.4954            202900.0  \n",
              "3            2887        1077         3.0625            116300.0  \n",
              "4            1424         529         2.8812             81900.0  \n",
              "...           ...         ...            ...                 ...  \n",
              "13593         609         224         7.8375            500001.0  \n",
              "13594         303         133         3.8750            127400.0  \n",
              "13595         791         335         3.4605            186600.0  \n",
              "13596         607         223         3.0972             82800.0  \n",
              "13597        3002        1318         2.4726            143400.0  \n",
              "\n",
              "[13395 rows x 9 columns]"
            ],
            "text/html": [
              "\n",
              "  <div id=\"df-05794f64-5fe1-490a-aad3-14cef3f30aa8\">\n",
              "    <div class=\"colab-df-container\">\n",
              "      <div>\n",
              "<style scoped>\n",
              "    .dataframe tbody tr th:only-of-type {\n",
              "        vertical-align: middle;\n",
              "    }\n",
              "\n",
              "    .dataframe tbody tr th {\n",
              "        vertical-align: top;\n",
              "    }\n",
              "\n",
              "    .dataframe thead th {\n",
              "        text-align: right;\n",
              "    }\n",
              "</style>\n",
              "<table border=\"1\" class=\"dataframe\">\n",
              "  <thead>\n",
              "    <tr style=\"text-align: right;\">\n",
              "      <th></th>\n",
              "      <th>longitude</th>\n",
              "      <th>latitude</th>\n",
              "      <th>housing_median_age</th>\n",
              "      <th>total_rooms</th>\n",
              "      <th>total_bedrooms</th>\n",
              "      <th>population</th>\n",
              "      <th>households</th>\n",
              "      <th>median_income</th>\n",
              "      <th>median_house_value</th>\n",
              "    </tr>\n",
              "  </thead>\n",
              "  <tbody>\n",
              "    <tr>\n",
              "      <th>0</th>\n",
              "      <td>-122.00</td>\n",
              "      <td>37.55</td>\n",
              "      <td>27</td>\n",
              "      <td>6103</td>\n",
              "      <td>1249</td>\n",
              "      <td>3026</td>\n",
              "      <td>1134</td>\n",
              "      <td>4.1591</td>\n",
              "      <td>332400.0</td>\n",
              "    </tr>\n",
              "    <tr>\n",
              "      <th>1</th>\n",
              "      <td>-122.07</td>\n",
              "      <td>37.93</td>\n",
              "      <td>25</td>\n",
              "      <td>7201</td>\n",
              "      <td>1521</td>\n",
              "      <td>3264</td>\n",
              "      <td>1433</td>\n",
              "      <td>3.7433</td>\n",
              "      <td>252100.0</td>\n",
              "    </tr>\n",
              "    <tr>\n",
              "      <th>2</th>\n",
              "      <td>-118.02</td>\n",
              "      <td>33.90</td>\n",
              "      <td>34</td>\n",
              "      <td>2678</td>\n",
              "      <td>511</td>\n",
              "      <td>1540</td>\n",
              "      <td>497</td>\n",
              "      <td>4.4954</td>\n",
              "      <td>202900.0</td>\n",
              "    </tr>\n",
              "    <tr>\n",
              "      <th>3</th>\n",
              "      <td>-121.79</td>\n",
              "      <td>39.73</td>\n",
              "      <td>8</td>\n",
              "      <td>5690</td>\n",
              "      <td>1189</td>\n",
              "      <td>2887</td>\n",
              "      <td>1077</td>\n",
              "      <td>3.0625</td>\n",
              "      <td>116300.0</td>\n",
              "    </tr>\n",
              "    <tr>\n",
              "      <th>4</th>\n",
              "      <td>-120.90</td>\n",
              "      <td>39.93</td>\n",
              "      <td>23</td>\n",
              "      <td>2679</td>\n",
              "      <td>546</td>\n",
              "      <td>1424</td>\n",
              "      <td>529</td>\n",
              "      <td>2.8812</td>\n",
              "      <td>81900.0</td>\n",
              "    </tr>\n",
              "    <tr>\n",
              "      <th>...</th>\n",
              "      <td>...</td>\n",
              "      <td>...</td>\n",
              "      <td>...</td>\n",
              "      <td>...</td>\n",
              "      <td>...</td>\n",
              "      <td>...</td>\n",
              "      <td>...</td>\n",
              "      <td>...</td>\n",
              "      <td>...</td>\n",
              "    </tr>\n",
              "    <tr>\n",
              "      <th>13593</th>\n",
              "      <td>-118.20</td>\n",
              "      <td>34.21</td>\n",
              "      <td>40</td>\n",
              "      <td>1477</td>\n",
              "      <td>228</td>\n",
              "      <td>609</td>\n",
              "      <td>224</td>\n",
              "      <td>7.8375</td>\n",
              "      <td>500001.0</td>\n",
              "    </tr>\n",
              "    <tr>\n",
              "      <th>13594</th>\n",
              "      <td>-121.29</td>\n",
              "      <td>38.14</td>\n",
              "      <td>27</td>\n",
              "      <td>836</td>\n",
              "      <td>132</td>\n",
              "      <td>303</td>\n",
              "      <td>133</td>\n",
              "      <td>3.8750</td>\n",
              "      <td>127400.0</td>\n",
              "    </tr>\n",
              "    <tr>\n",
              "      <th>13595</th>\n",
              "      <td>-118.17</td>\n",
              "      <td>33.84</td>\n",
              "      <td>45</td>\n",
              "      <td>1533</td>\n",
              "      <td>331</td>\n",
              "      <td>791</td>\n",
              "      <td>335</td>\n",
              "      <td>3.4605</td>\n",
              "      <td>186600.0</td>\n",
              "    </tr>\n",
              "    <tr>\n",
              "      <th>13596</th>\n",
              "      <td>-119.29</td>\n",
              "      <td>36.31</td>\n",
              "      <td>34</td>\n",
              "      <td>1439</td>\n",
              "      <td>253</td>\n",
              "      <td>607</td>\n",
              "      <td>223</td>\n",
              "      <td>3.0972</td>\n",
              "      <td>82800.0</td>\n",
              "    </tr>\n",
              "    <tr>\n",
              "      <th>13597</th>\n",
              "      <td>-121.07</td>\n",
              "      <td>39.15</td>\n",
              "      <td>15</td>\n",
              "      <td>6828</td>\n",
              "      <td>1319</td>\n",
              "      <td>3002</td>\n",
              "      <td>1318</td>\n",
              "      <td>2.4726</td>\n",
              "      <td>143400.0</td>\n",
              "    </tr>\n",
              "  </tbody>\n",
              "</table>\n",
              "<p>13395 rows × 9 columns</p>\n",
              "</div>\n",
              "      <button class=\"colab-df-convert\" onclick=\"convertToInteractive('df-05794f64-5fe1-490a-aad3-14cef3f30aa8')\"\n",
              "              title=\"Convert this dataframe to an interactive table.\"\n",
              "              style=\"display:none;\">\n",
              "        \n",
              "  <svg xmlns=\"http://www.w3.org/2000/svg\" height=\"24px\"viewBox=\"0 0 24 24\"\n",
              "       width=\"24px\">\n",
              "    <path d=\"M0 0h24v24H0V0z\" fill=\"none\"/>\n",
              "    <path d=\"M18.56 5.44l.94 2.06.94-2.06 2.06-.94-2.06-.94-.94-2.06-.94 2.06-2.06.94zm-11 1L8.5 8.5l.94-2.06 2.06-.94-2.06-.94L8.5 2.5l-.94 2.06-2.06.94zm10 10l.94 2.06.94-2.06 2.06-.94-2.06-.94-.94-2.06-.94 2.06-2.06.94z\"/><path d=\"M17.41 7.96l-1.37-1.37c-.4-.4-.92-.59-1.43-.59-.52 0-1.04.2-1.43.59L10.3 9.45l-7.72 7.72c-.78.78-.78 2.05 0 2.83L4 21.41c.39.39.9.59 1.41.59.51 0 1.02-.2 1.41-.59l7.78-7.78 2.81-2.81c.8-.78.8-2.07 0-2.86zM5.41 20L4 18.59l7.72-7.72 1.47 1.35L5.41 20z\"/>\n",
              "  </svg>\n",
              "      </button>\n",
              "      \n",
              "  <style>\n",
              "    .colab-df-container {\n",
              "      display:flex;\n",
              "      flex-wrap:wrap;\n",
              "      gap: 12px;\n",
              "    }\n",
              "\n",
              "    .colab-df-convert {\n",
              "      background-color: #E8F0FE;\n",
              "      border: none;\n",
              "      border-radius: 50%;\n",
              "      cursor: pointer;\n",
              "      display: none;\n",
              "      fill: #1967D2;\n",
              "      height: 32px;\n",
              "      padding: 0 0 0 0;\n",
              "      width: 32px;\n",
              "    }\n",
              "\n",
              "    .colab-df-convert:hover {\n",
              "      background-color: #E2EBFA;\n",
              "      box-shadow: 0px 1px 2px rgba(60, 64, 67, 0.3), 0px 1px 3px 1px rgba(60, 64, 67, 0.15);\n",
              "      fill: #174EA6;\n",
              "    }\n",
              "\n",
              "    [theme=dark] .colab-df-convert {\n",
              "      background-color: #3B4455;\n",
              "      fill: #D2E3FC;\n",
              "    }\n",
              "\n",
              "    [theme=dark] .colab-df-convert:hover {\n",
              "      background-color: #434B5C;\n",
              "      box-shadow: 0px 1px 3px 1px rgba(0, 0, 0, 0.15);\n",
              "      filter: drop-shadow(0px 1px 2px rgba(0, 0, 0, 0.3));\n",
              "      fill: #FFFFFF;\n",
              "    }\n",
              "  </style>\n",
              "\n",
              "      <script>\n",
              "        const buttonEl =\n",
              "          document.querySelector('#df-05794f64-5fe1-490a-aad3-14cef3f30aa8 button.colab-df-convert');\n",
              "        buttonEl.style.display =\n",
              "          google.colab.kernel.accessAllowed ? 'block' : 'none';\n",
              "\n",
              "        async function convertToInteractive(key) {\n",
              "          const element = document.querySelector('#df-05794f64-5fe1-490a-aad3-14cef3f30aa8');\n",
              "          const dataTable =\n",
              "            await google.colab.kernel.invokeFunction('convertToInteractive',\n",
              "                                                     [key], {});\n",
              "          if (!dataTable) return;\n",
              "\n",
              "          const docLinkHtml = 'Like what you see? Visit the ' +\n",
              "            '<a target=\"_blank\" href=https://colab.research.google.com/notebooks/data_table.ipynb>data table notebook</a>'\n",
              "            + ' to learn more about interactive tables.';\n",
              "          element.innerHTML = '';\n",
              "          dataTable['output_type'] = 'display_data';\n",
              "          await google.colab.output.renderOutput(dataTable, element);\n",
              "          const docLink = document.createElement('div');\n",
              "          docLink.innerHTML = docLinkHtml;\n",
              "          element.appendChild(docLink);\n",
              "        }\n",
              "      </script>\n",
              "    </div>\n",
              "  </div>\n",
              "  "
            ]
          },
          "metadata": {},
          "execution_count": 28
        }
      ]
    },
    {
      "cell_type": "markdown",
      "source": [
        "Нормализуем наши тестовые данные"
      ],
      "metadata": {
        "id": "aFWyLrKzlSrN"
      }
    },
    {
      "cell_type": "code",
      "source": [
        "scaler = MinMaxScaler()"
      ],
      "metadata": {
        "id": "bH0p7LOGlagN"
      },
      "execution_count": 29,
      "outputs": []
    },
    {
      "cell_type": "code",
      "source": [
        "table1 = pd.DataFrame(scaler.fit_transform(table1))"
      ],
      "metadata": {
        "id": "fDVsmsLtm5ma"
      },
      "execution_count": 30,
      "outputs": []
    },
    {
      "cell_type": "code",
      "source": [
        "table1"
      ],
      "metadata": {
        "colab": {
          "base_uri": "https://localhost:8080/",
          "height": 488
        },
        "id": "F9htWsaEnPov",
        "outputId": "12ec6835-5643-4e82-87bc-89f52e89976b"
      },
      "execution_count": 31,
      "outputs": [
        {
          "output_type": "execute_result",
          "data": {
            "text/plain": [
              "              0         1         2         3         4         5         6  \\\n",
              "0      0.234064  0.532412  0.509804  0.160828  0.193543  0.105836  0.186184   \n",
              "1      0.227092  0.572795  0.470588  0.189772  0.235760  0.114169  0.235362   \n",
              "2      0.630478  0.144527  0.647059  0.070542  0.079000  0.053811  0.081414   \n",
              "3      0.254980  0.764081  0.137255  0.149941  0.184231  0.100970  0.176809   \n",
              "4      0.343625  0.785335  0.431373  0.070568  0.084433  0.049750  0.086678   \n",
              "...         ...       ...       ...       ...       ...       ...       ...   \n",
              "13390  0.612550  0.177471  0.764706  0.038882  0.035077  0.021216  0.036513   \n",
              "13391  0.304781  0.595112  0.509804  0.021985  0.020177  0.010503  0.021546   \n",
              "13392  0.615538  0.138151  0.862745  0.040359  0.051063  0.027588  0.054770   \n",
              "13393  0.503984  0.400638  0.647059  0.037881  0.038957  0.021146  0.036349   \n",
              "13394  0.326693  0.702444  0.274510  0.179939  0.204408  0.104996  0.216447   \n",
              "\n",
              "              7         8  \n",
              "0      0.385175  0.654432  \n",
              "1      0.341407  0.488866  \n",
              "2      0.420575  0.387423  \n",
              "3      0.269745  0.208867  \n",
              "4      0.250661  0.137940  \n",
              "...         ...       ...  \n",
              "13390  0.772371  1.000000  \n",
              "13391  0.355270  0.231754  \n",
              "13392  0.311639  0.353815  \n",
              "13393  0.273397  0.139795  \n",
              "13394  0.207650  0.264743  \n",
              "\n",
              "[13395 rows x 9 columns]"
            ],
            "text/html": [
              "\n",
              "  <div id=\"df-2207c15c-9c1d-49e5-bdba-9c8bd7842ff7\">\n",
              "    <div class=\"colab-df-container\">\n",
              "      <div>\n",
              "<style scoped>\n",
              "    .dataframe tbody tr th:only-of-type {\n",
              "        vertical-align: middle;\n",
              "    }\n",
              "\n",
              "    .dataframe tbody tr th {\n",
              "        vertical-align: top;\n",
              "    }\n",
              "\n",
              "    .dataframe thead th {\n",
              "        text-align: right;\n",
              "    }\n",
              "</style>\n",
              "<table border=\"1\" class=\"dataframe\">\n",
              "  <thead>\n",
              "    <tr style=\"text-align: right;\">\n",
              "      <th></th>\n",
              "      <th>0</th>\n",
              "      <th>1</th>\n",
              "      <th>2</th>\n",
              "      <th>3</th>\n",
              "      <th>4</th>\n",
              "      <th>5</th>\n",
              "      <th>6</th>\n",
              "      <th>7</th>\n",
              "      <th>8</th>\n",
              "    </tr>\n",
              "  </thead>\n",
              "  <tbody>\n",
              "    <tr>\n",
              "      <th>0</th>\n",
              "      <td>0.234064</td>\n",
              "      <td>0.532412</td>\n",
              "      <td>0.509804</td>\n",
              "      <td>0.160828</td>\n",
              "      <td>0.193543</td>\n",
              "      <td>0.105836</td>\n",
              "      <td>0.186184</td>\n",
              "      <td>0.385175</td>\n",
              "      <td>0.654432</td>\n",
              "    </tr>\n",
              "    <tr>\n",
              "      <th>1</th>\n",
              "      <td>0.227092</td>\n",
              "      <td>0.572795</td>\n",
              "      <td>0.470588</td>\n",
              "      <td>0.189772</td>\n",
              "      <td>0.235760</td>\n",
              "      <td>0.114169</td>\n",
              "      <td>0.235362</td>\n",
              "      <td>0.341407</td>\n",
              "      <td>0.488866</td>\n",
              "    </tr>\n",
              "    <tr>\n",
              "      <th>2</th>\n",
              "      <td>0.630478</td>\n",
              "      <td>0.144527</td>\n",
              "      <td>0.647059</td>\n",
              "      <td>0.070542</td>\n",
              "      <td>0.079000</td>\n",
              "      <td>0.053811</td>\n",
              "      <td>0.081414</td>\n",
              "      <td>0.420575</td>\n",
              "      <td>0.387423</td>\n",
              "    </tr>\n",
              "    <tr>\n",
              "      <th>3</th>\n",
              "      <td>0.254980</td>\n",
              "      <td>0.764081</td>\n",
              "      <td>0.137255</td>\n",
              "      <td>0.149941</td>\n",
              "      <td>0.184231</td>\n",
              "      <td>0.100970</td>\n",
              "      <td>0.176809</td>\n",
              "      <td>0.269745</td>\n",
              "      <td>0.208867</td>\n",
              "    </tr>\n",
              "    <tr>\n",
              "      <th>4</th>\n",
              "      <td>0.343625</td>\n",
              "      <td>0.785335</td>\n",
              "      <td>0.431373</td>\n",
              "      <td>0.070568</td>\n",
              "      <td>0.084433</td>\n",
              "      <td>0.049750</td>\n",
              "      <td>0.086678</td>\n",
              "      <td>0.250661</td>\n",
              "      <td>0.137940</td>\n",
              "    </tr>\n",
              "    <tr>\n",
              "      <th>...</th>\n",
              "      <td>...</td>\n",
              "      <td>...</td>\n",
              "      <td>...</td>\n",
              "      <td>...</td>\n",
              "      <td>...</td>\n",
              "      <td>...</td>\n",
              "      <td>...</td>\n",
              "      <td>...</td>\n",
              "      <td>...</td>\n",
              "    </tr>\n",
              "    <tr>\n",
              "      <th>13390</th>\n",
              "      <td>0.612550</td>\n",
              "      <td>0.177471</td>\n",
              "      <td>0.764706</td>\n",
              "      <td>0.038882</td>\n",
              "      <td>0.035077</td>\n",
              "      <td>0.021216</td>\n",
              "      <td>0.036513</td>\n",
              "      <td>0.772371</td>\n",
              "      <td>1.000000</td>\n",
              "    </tr>\n",
              "    <tr>\n",
              "      <th>13391</th>\n",
              "      <td>0.304781</td>\n",
              "      <td>0.595112</td>\n",
              "      <td>0.509804</td>\n",
              "      <td>0.021985</td>\n",
              "      <td>0.020177</td>\n",
              "      <td>0.010503</td>\n",
              "      <td>0.021546</td>\n",
              "      <td>0.355270</td>\n",
              "      <td>0.231754</td>\n",
              "    </tr>\n",
              "    <tr>\n",
              "      <th>13392</th>\n",
              "      <td>0.615538</td>\n",
              "      <td>0.138151</td>\n",
              "      <td>0.862745</td>\n",
              "      <td>0.040359</td>\n",
              "      <td>0.051063</td>\n",
              "      <td>0.027588</td>\n",
              "      <td>0.054770</td>\n",
              "      <td>0.311639</td>\n",
              "      <td>0.353815</td>\n",
              "    </tr>\n",
              "    <tr>\n",
              "      <th>13393</th>\n",
              "      <td>0.503984</td>\n",
              "      <td>0.400638</td>\n",
              "      <td>0.647059</td>\n",
              "      <td>0.037881</td>\n",
              "      <td>0.038957</td>\n",
              "      <td>0.021146</td>\n",
              "      <td>0.036349</td>\n",
              "      <td>0.273397</td>\n",
              "      <td>0.139795</td>\n",
              "    </tr>\n",
              "    <tr>\n",
              "      <th>13394</th>\n",
              "      <td>0.326693</td>\n",
              "      <td>0.702444</td>\n",
              "      <td>0.274510</td>\n",
              "      <td>0.179939</td>\n",
              "      <td>0.204408</td>\n",
              "      <td>0.104996</td>\n",
              "      <td>0.216447</td>\n",
              "      <td>0.207650</td>\n",
              "      <td>0.264743</td>\n",
              "    </tr>\n",
              "  </tbody>\n",
              "</table>\n",
              "<p>13395 rows × 9 columns</p>\n",
              "</div>\n",
              "      <button class=\"colab-df-convert\" onclick=\"convertToInteractive('df-2207c15c-9c1d-49e5-bdba-9c8bd7842ff7')\"\n",
              "              title=\"Convert this dataframe to an interactive table.\"\n",
              "              style=\"display:none;\">\n",
              "        \n",
              "  <svg xmlns=\"http://www.w3.org/2000/svg\" height=\"24px\"viewBox=\"0 0 24 24\"\n",
              "       width=\"24px\">\n",
              "    <path d=\"M0 0h24v24H0V0z\" fill=\"none\"/>\n",
              "    <path d=\"M18.56 5.44l.94 2.06.94-2.06 2.06-.94-2.06-.94-.94-2.06-.94 2.06-2.06.94zm-11 1L8.5 8.5l.94-2.06 2.06-.94-2.06-.94L8.5 2.5l-.94 2.06-2.06.94zm10 10l.94 2.06.94-2.06 2.06-.94-2.06-.94-.94-2.06-.94 2.06-2.06.94z\"/><path d=\"M17.41 7.96l-1.37-1.37c-.4-.4-.92-.59-1.43-.59-.52 0-1.04.2-1.43.59L10.3 9.45l-7.72 7.72c-.78.78-.78 2.05 0 2.83L4 21.41c.39.39.9.59 1.41.59.51 0 1.02-.2 1.41-.59l7.78-7.78 2.81-2.81c.8-.78.8-2.07 0-2.86zM5.41 20L4 18.59l7.72-7.72 1.47 1.35L5.41 20z\"/>\n",
              "  </svg>\n",
              "      </button>\n",
              "      \n",
              "  <style>\n",
              "    .colab-df-container {\n",
              "      display:flex;\n",
              "      flex-wrap:wrap;\n",
              "      gap: 12px;\n",
              "    }\n",
              "\n",
              "    .colab-df-convert {\n",
              "      background-color: #E8F0FE;\n",
              "      border: none;\n",
              "      border-radius: 50%;\n",
              "      cursor: pointer;\n",
              "      display: none;\n",
              "      fill: #1967D2;\n",
              "      height: 32px;\n",
              "      padding: 0 0 0 0;\n",
              "      width: 32px;\n",
              "    }\n",
              "\n",
              "    .colab-df-convert:hover {\n",
              "      background-color: #E2EBFA;\n",
              "      box-shadow: 0px 1px 2px rgba(60, 64, 67, 0.3), 0px 1px 3px 1px rgba(60, 64, 67, 0.15);\n",
              "      fill: #174EA6;\n",
              "    }\n",
              "\n",
              "    [theme=dark] .colab-df-convert {\n",
              "      background-color: #3B4455;\n",
              "      fill: #D2E3FC;\n",
              "    }\n",
              "\n",
              "    [theme=dark] .colab-df-convert:hover {\n",
              "      background-color: #434B5C;\n",
              "      box-shadow: 0px 1px 3px 1px rgba(0, 0, 0, 0.15);\n",
              "      filter: drop-shadow(0px 1px 2px rgba(0, 0, 0, 0.3));\n",
              "      fill: #FFFFFF;\n",
              "    }\n",
              "  </style>\n",
              "\n",
              "      <script>\n",
              "        const buttonEl =\n",
              "          document.querySelector('#df-2207c15c-9c1d-49e5-bdba-9c8bd7842ff7 button.colab-df-convert');\n",
              "        buttonEl.style.display =\n",
              "          google.colab.kernel.accessAllowed ? 'block' : 'none';\n",
              "\n",
              "        async function convertToInteractive(key) {\n",
              "          const element = document.querySelector('#df-2207c15c-9c1d-49e5-bdba-9c8bd7842ff7');\n",
              "          const dataTable =\n",
              "            await google.colab.kernel.invokeFunction('convertToInteractive',\n",
              "                                                     [key], {});\n",
              "          if (!dataTable) return;\n",
              "\n",
              "          const docLinkHtml = 'Like what you see? Visit the ' +\n",
              "            '<a target=\"_blank\" href=https://colab.research.google.com/notebooks/data_table.ipynb>data table notebook</a>'\n",
              "            + ' to learn more about interactive tables.';\n",
              "          element.innerHTML = '';\n",
              "          dataTable['output_type'] = 'display_data';\n",
              "          await google.colab.output.renderOutput(dataTable, element);\n",
              "          const docLink = document.createElement('div');\n",
              "          docLink.innerHTML = docLinkHtml;\n",
              "          element.appendChild(docLink);\n",
              "        }\n",
              "      </script>\n",
              "    </div>\n",
              "  </div>\n",
              "  "
            ]
          },
          "metadata": {},
          "execution_count": 31
        }
      ]
    },
    {
      "cell_type": "markdown",
      "source": [
        "#Мы разобрались с подготовкой данных, теперь перейдем созданию NN"
      ],
      "metadata": {
        "id": "crWuaFwRnaC4"
      }
    },
    {
      "cell_type": "markdown",
      "source": [
        "Имортируем модули pytorch"
      ],
      "metadata": {
        "id": "NcCCZs3snp-d"
      }
    },
    {
      "cell_type": "code",
      "source": [
        "import torch\n",
        "import torch.optim as optim\n",
        "import torch.nn as nn\n",
        "import torch.utils.data.dataloader as dataloader\n",
        "import torch.nn.functional as F\n",
        "from sklearn.metrics import balanced_accuracy_score\n"
      ],
      "metadata": {
        "id": "pJ4cGatJnYmh"
      },
      "execution_count": 76,
      "outputs": []
    },
    {
      "cell_type": "markdown",
      "source": [
        "Структура нейронки"
      ],
      "metadata": {
        "id": "_Y9HPZ1us_0m"
      }
    },
    {
      "cell_type": "code",
      "source": [
        "class NN (nn.Module):\n",
        "  def __init__(self,input_size, hidden_size1,hidden_size2,hidden_size3,n_class):\n",
        "    super(NN,self).__init__()\n",
        "    self.fc1 =nn.Linear(input_size, hidden_size1,bias = True)\n",
        "    self.fc2 =nn.Linear(hidden_size1, hidden_size2,bias = True)\n",
        "    self.dropout1 = nn.Dropout(p = 0.6)\n",
        "    self.fc3 =nn.Linear(hidden_size2, hidden_size3,bias = True)\n",
        "    self.dropout2 = nn.Dropout(p = 0.2)\n",
        "    self.fc4 =nn.Linear(hidden_size3, n_class,bias = True)\n",
        "  def forward(self,x): #последовательная прогонка по скрытым слоям\n",
        "    x = F.relu(self.fc1(x)) \n",
        "    x = F.relu(self.fc2(x))\n",
        "    x = self.dropout1(self.fc3(x))\n",
        "    # x = F.relu(self.fc3(x))\n",
        "    x = self.dropout2(self.fc4(x))\n",
        "    return x\n"
      ],
      "metadata": {
        "id": "iN1RvC3QtuL7"
      },
      "execution_count": 56,
      "outputs": []
    },
    {
      "cell_type": "code",
      "source": [
        "team_nn = NN(8,1000,1500,1000,1)"
      ],
      "metadata": {
        "id": "O2889Fko5Uz4"
      },
      "execution_count": 57,
      "outputs": []
    },
    {
      "cell_type": "code",
      "source": [
        "team_nn"
      ],
      "metadata": {
        "colab": {
          "base_uri": "https://localhost:8080/"
        },
        "id": "mTx_IIDb53YZ",
        "outputId": "f5979096-0201-4528-ec35-efef34da2f77"
      },
      "execution_count": 58,
      "outputs": [
        {
          "output_type": "execute_result",
          "data": {
            "text/plain": [
              "NN(\n",
              "  (fc1): Linear(in_features=8, out_features=1000, bias=True)\n",
              "  (fc2): Linear(in_features=1000, out_features=1500, bias=True)\n",
              "  (dropout1): Dropout(p=0.6, inplace=False)\n",
              "  (fc3): Linear(in_features=1500, out_features=1000, bias=True)\n",
              "  (dropout2): Dropout(p=0.2, inplace=False)\n",
              "  (fc4): Linear(in_features=1000, out_features=1, bias=True)\n",
              ")"
            ]
          },
          "metadata": {},
          "execution_count": 58
        }
      ]
    },
    {
      "cell_type": "code",
      "source": [
        "#функция потерь и метод оптимизации\n",
        "optimizer = optim.Adam(team_nn.parameters(),lr = 0.001)\n",
        "criterion = nn.MSELoss()"
      ],
      "metadata": {
        "id": "kGCOpdDuv6dD"
      },
      "execution_count": 59,
      "outputs": []
    },
    {
      "cell_type": "code",
      "source": [
        "table1 "
      ],
      "metadata": {
        "colab": {
          "base_uri": "https://localhost:8080/",
          "height": 488
        },
        "id": "qVjqaCO-Lodm",
        "outputId": "19516e18-683a-447f-8cff-492ccdbaed76"
      },
      "execution_count": 60,
      "outputs": [
        {
          "output_type": "execute_result",
          "data": {
            "text/plain": [
              "              0         1         2         3         4         5         6  \\\n",
              "0      0.234064  0.532412  0.509804  0.160828  0.193543  0.105836  0.186184   \n",
              "1      0.227092  0.572795  0.470588  0.189772  0.235760  0.114169  0.235362   \n",
              "2      0.630478  0.144527  0.647059  0.070542  0.079000  0.053811  0.081414   \n",
              "3      0.254980  0.764081  0.137255  0.149941  0.184231  0.100970  0.176809   \n",
              "4      0.343625  0.785335  0.431373  0.070568  0.084433  0.049750  0.086678   \n",
              "...         ...       ...       ...       ...       ...       ...       ...   \n",
              "13390  0.612550  0.177471  0.764706  0.038882  0.035077  0.021216  0.036513   \n",
              "13391  0.304781  0.595112  0.509804  0.021985  0.020177  0.010503  0.021546   \n",
              "13392  0.615538  0.138151  0.862745  0.040359  0.051063  0.027588  0.054770   \n",
              "13393  0.503984  0.400638  0.647059  0.037881  0.038957  0.021146  0.036349   \n",
              "13394  0.326693  0.702444  0.274510  0.179939  0.204408  0.104996  0.216447   \n",
              "\n",
              "              7         8  \n",
              "0      0.385175  0.654432  \n",
              "1      0.341407  0.488866  \n",
              "2      0.420575  0.387423  \n",
              "3      0.269745  0.208867  \n",
              "4      0.250661  0.137940  \n",
              "...         ...       ...  \n",
              "13390  0.772371  1.000000  \n",
              "13391  0.355270  0.231754  \n",
              "13392  0.311639  0.353815  \n",
              "13393  0.273397  0.139795  \n",
              "13394  0.207650  0.264743  \n",
              "\n",
              "[13395 rows x 9 columns]"
            ],
            "text/html": [
              "\n",
              "  <div id=\"df-5ff0e2bd-245b-4664-a40f-07b81388a422\">\n",
              "    <div class=\"colab-df-container\">\n",
              "      <div>\n",
              "<style scoped>\n",
              "    .dataframe tbody tr th:only-of-type {\n",
              "        vertical-align: middle;\n",
              "    }\n",
              "\n",
              "    .dataframe tbody tr th {\n",
              "        vertical-align: top;\n",
              "    }\n",
              "\n",
              "    .dataframe thead th {\n",
              "        text-align: right;\n",
              "    }\n",
              "</style>\n",
              "<table border=\"1\" class=\"dataframe\">\n",
              "  <thead>\n",
              "    <tr style=\"text-align: right;\">\n",
              "      <th></th>\n",
              "      <th>0</th>\n",
              "      <th>1</th>\n",
              "      <th>2</th>\n",
              "      <th>3</th>\n",
              "      <th>4</th>\n",
              "      <th>5</th>\n",
              "      <th>6</th>\n",
              "      <th>7</th>\n",
              "      <th>8</th>\n",
              "    </tr>\n",
              "  </thead>\n",
              "  <tbody>\n",
              "    <tr>\n",
              "      <th>0</th>\n",
              "      <td>0.234064</td>\n",
              "      <td>0.532412</td>\n",
              "      <td>0.509804</td>\n",
              "      <td>0.160828</td>\n",
              "      <td>0.193543</td>\n",
              "      <td>0.105836</td>\n",
              "      <td>0.186184</td>\n",
              "      <td>0.385175</td>\n",
              "      <td>0.654432</td>\n",
              "    </tr>\n",
              "    <tr>\n",
              "      <th>1</th>\n",
              "      <td>0.227092</td>\n",
              "      <td>0.572795</td>\n",
              "      <td>0.470588</td>\n",
              "      <td>0.189772</td>\n",
              "      <td>0.235760</td>\n",
              "      <td>0.114169</td>\n",
              "      <td>0.235362</td>\n",
              "      <td>0.341407</td>\n",
              "      <td>0.488866</td>\n",
              "    </tr>\n",
              "    <tr>\n",
              "      <th>2</th>\n",
              "      <td>0.630478</td>\n",
              "      <td>0.144527</td>\n",
              "      <td>0.647059</td>\n",
              "      <td>0.070542</td>\n",
              "      <td>0.079000</td>\n",
              "      <td>0.053811</td>\n",
              "      <td>0.081414</td>\n",
              "      <td>0.420575</td>\n",
              "      <td>0.387423</td>\n",
              "    </tr>\n",
              "    <tr>\n",
              "      <th>3</th>\n",
              "      <td>0.254980</td>\n",
              "      <td>0.764081</td>\n",
              "      <td>0.137255</td>\n",
              "      <td>0.149941</td>\n",
              "      <td>0.184231</td>\n",
              "      <td>0.100970</td>\n",
              "      <td>0.176809</td>\n",
              "      <td>0.269745</td>\n",
              "      <td>0.208867</td>\n",
              "    </tr>\n",
              "    <tr>\n",
              "      <th>4</th>\n",
              "      <td>0.343625</td>\n",
              "      <td>0.785335</td>\n",
              "      <td>0.431373</td>\n",
              "      <td>0.070568</td>\n",
              "      <td>0.084433</td>\n",
              "      <td>0.049750</td>\n",
              "      <td>0.086678</td>\n",
              "      <td>0.250661</td>\n",
              "      <td>0.137940</td>\n",
              "    </tr>\n",
              "    <tr>\n",
              "      <th>...</th>\n",
              "      <td>...</td>\n",
              "      <td>...</td>\n",
              "      <td>...</td>\n",
              "      <td>...</td>\n",
              "      <td>...</td>\n",
              "      <td>...</td>\n",
              "      <td>...</td>\n",
              "      <td>...</td>\n",
              "      <td>...</td>\n",
              "    </tr>\n",
              "    <tr>\n",
              "      <th>13390</th>\n",
              "      <td>0.612550</td>\n",
              "      <td>0.177471</td>\n",
              "      <td>0.764706</td>\n",
              "      <td>0.038882</td>\n",
              "      <td>0.035077</td>\n",
              "      <td>0.021216</td>\n",
              "      <td>0.036513</td>\n",
              "      <td>0.772371</td>\n",
              "      <td>1.000000</td>\n",
              "    </tr>\n",
              "    <tr>\n",
              "      <th>13391</th>\n",
              "      <td>0.304781</td>\n",
              "      <td>0.595112</td>\n",
              "      <td>0.509804</td>\n",
              "      <td>0.021985</td>\n",
              "      <td>0.020177</td>\n",
              "      <td>0.010503</td>\n",
              "      <td>0.021546</td>\n",
              "      <td>0.355270</td>\n",
              "      <td>0.231754</td>\n",
              "    </tr>\n",
              "    <tr>\n",
              "      <th>13392</th>\n",
              "      <td>0.615538</td>\n",
              "      <td>0.138151</td>\n",
              "      <td>0.862745</td>\n",
              "      <td>0.040359</td>\n",
              "      <td>0.051063</td>\n",
              "      <td>0.027588</td>\n",
              "      <td>0.054770</td>\n",
              "      <td>0.311639</td>\n",
              "      <td>0.353815</td>\n",
              "    </tr>\n",
              "    <tr>\n",
              "      <th>13393</th>\n",
              "      <td>0.503984</td>\n",
              "      <td>0.400638</td>\n",
              "      <td>0.647059</td>\n",
              "      <td>0.037881</td>\n",
              "      <td>0.038957</td>\n",
              "      <td>0.021146</td>\n",
              "      <td>0.036349</td>\n",
              "      <td>0.273397</td>\n",
              "      <td>0.139795</td>\n",
              "    </tr>\n",
              "    <tr>\n",
              "      <th>13394</th>\n",
              "      <td>0.326693</td>\n",
              "      <td>0.702444</td>\n",
              "      <td>0.274510</td>\n",
              "      <td>0.179939</td>\n",
              "      <td>0.204408</td>\n",
              "      <td>0.104996</td>\n",
              "      <td>0.216447</td>\n",
              "      <td>0.207650</td>\n",
              "      <td>0.264743</td>\n",
              "    </tr>\n",
              "  </tbody>\n",
              "</table>\n",
              "<p>13395 rows × 9 columns</p>\n",
              "</div>\n",
              "      <button class=\"colab-df-convert\" onclick=\"convertToInteractive('df-5ff0e2bd-245b-4664-a40f-07b81388a422')\"\n",
              "              title=\"Convert this dataframe to an interactive table.\"\n",
              "              style=\"display:none;\">\n",
              "        \n",
              "  <svg xmlns=\"http://www.w3.org/2000/svg\" height=\"24px\"viewBox=\"0 0 24 24\"\n",
              "       width=\"24px\">\n",
              "    <path d=\"M0 0h24v24H0V0z\" fill=\"none\"/>\n",
              "    <path d=\"M18.56 5.44l.94 2.06.94-2.06 2.06-.94-2.06-.94-.94-2.06-.94 2.06-2.06.94zm-11 1L8.5 8.5l.94-2.06 2.06-.94-2.06-.94L8.5 2.5l-.94 2.06-2.06.94zm10 10l.94 2.06.94-2.06 2.06-.94-2.06-.94-.94-2.06-.94 2.06-2.06.94z\"/><path d=\"M17.41 7.96l-1.37-1.37c-.4-.4-.92-.59-1.43-.59-.52 0-1.04.2-1.43.59L10.3 9.45l-7.72 7.72c-.78.78-.78 2.05 0 2.83L4 21.41c.39.39.9.59 1.41.59.51 0 1.02-.2 1.41-.59l7.78-7.78 2.81-2.81c.8-.78.8-2.07 0-2.86zM5.41 20L4 18.59l7.72-7.72 1.47 1.35L5.41 20z\"/>\n",
              "  </svg>\n",
              "      </button>\n",
              "      \n",
              "  <style>\n",
              "    .colab-df-container {\n",
              "      display:flex;\n",
              "      flex-wrap:wrap;\n",
              "      gap: 12px;\n",
              "    }\n",
              "\n",
              "    .colab-df-convert {\n",
              "      background-color: #E8F0FE;\n",
              "      border: none;\n",
              "      border-radius: 50%;\n",
              "      cursor: pointer;\n",
              "      display: none;\n",
              "      fill: #1967D2;\n",
              "      height: 32px;\n",
              "      padding: 0 0 0 0;\n",
              "      width: 32px;\n",
              "    }\n",
              "\n",
              "    .colab-df-convert:hover {\n",
              "      background-color: #E2EBFA;\n",
              "      box-shadow: 0px 1px 2px rgba(60, 64, 67, 0.3), 0px 1px 3px 1px rgba(60, 64, 67, 0.15);\n",
              "      fill: #174EA6;\n",
              "    }\n",
              "\n",
              "    [theme=dark] .colab-df-convert {\n",
              "      background-color: #3B4455;\n",
              "      fill: #D2E3FC;\n",
              "    }\n",
              "\n",
              "    [theme=dark] .colab-df-convert:hover {\n",
              "      background-color: #434B5C;\n",
              "      box-shadow: 0px 1px 3px 1px rgba(0, 0, 0, 0.15);\n",
              "      filter: drop-shadow(0px 1px 2px rgba(0, 0, 0, 0.3));\n",
              "      fill: #FFFFFF;\n",
              "    }\n",
              "  </style>\n",
              "\n",
              "      <script>\n",
              "        const buttonEl =\n",
              "          document.querySelector('#df-5ff0e2bd-245b-4664-a40f-07b81388a422 button.colab-df-convert');\n",
              "        buttonEl.style.display =\n",
              "          google.colab.kernel.accessAllowed ? 'block' : 'none';\n",
              "\n",
              "        async function convertToInteractive(key) {\n",
              "          const element = document.querySelector('#df-5ff0e2bd-245b-4664-a40f-07b81388a422');\n",
              "          const dataTable =\n",
              "            await google.colab.kernel.invokeFunction('convertToInteractive',\n",
              "                                                     [key], {});\n",
              "          if (!dataTable) return;\n",
              "\n",
              "          const docLinkHtml = 'Like what you see? Visit the ' +\n",
              "            '<a target=\"_blank\" href=https://colab.research.google.com/notebooks/data_table.ipynb>data table notebook</a>'\n",
              "            + ' to learn more about interactive tables.';\n",
              "          element.innerHTML = '';\n",
              "          dataTable['output_type'] = 'display_data';\n",
              "          await google.colab.output.renderOutput(dataTable, element);\n",
              "          const docLink = document.createElement('div');\n",
              "          docLink.innerHTML = docLinkHtml;\n",
              "          element.appendChild(docLink);\n",
              "        }\n",
              "      </script>\n",
              "    </div>\n",
              "  </div>\n",
              "  "
            ]
          },
          "metadata": {},
          "execution_count": 60
        }
      ]
    },
    {
      "cell_type": "code",
      "source": [
        "#здесь нужно дописать перевод данных в тензоры\n",
        "labels = table1[8].values\n",
        "train_dataset = table1.iloc[:,0:8].values"
      ],
      "metadata": {
        "id": "jfeLHjWkAHtj"
      },
      "execution_count": 61,
      "outputs": []
    },
    {
      "cell_type": "code",
      "source": [
        "train_dataset.shape"
      ],
      "metadata": {
        "colab": {
          "base_uri": "https://localhost:8080/"
        },
        "id": "y6_EaXH4NBxq",
        "outputId": "b43f6810-7f3a-4be8-9469-3d2cc8a90613"
      },
      "execution_count": 62,
      "outputs": [
        {
          "output_type": "execute_result",
          "data": {
            "text/plain": [
              "(13395, 8)"
            ]
          },
          "metadata": {},
          "execution_count": 62
        }
      ]
    },
    {
      "cell_type": "code",
      "source": [
        "train_dataset = torch.tensor(train_dataset,dtype=torch.float32)\n",
        "labels = torch.tensor(labels,dtype=torch.float32)"
      ],
      "metadata": {
        "id": "tNRHIpubNdCj"
      },
      "execution_count": 63,
      "outputs": []
    },
    {
      "cell_type": "code",
      "source": [
        "tr_data = torch.utils.data.TensorDataset(train_dataset, labels)"
      ],
      "metadata": {
        "id": "Ch3u8p17VbGc"
      },
      "execution_count": 64,
      "outputs": []
    },
    {
      "cell_type": "code",
      "source": [
        "Data_set = torch.utils.data.DataLoader(dataset=tr_data,shuffle = True,batch_size = 10)"
      ],
      "metadata": {
        "id": "Li-L-QgjVunU"
      },
      "execution_count": 65,
      "outputs": []
    },
    {
      "cell_type": "code",
      "source": [
        "def train(epoch,optimizer,criterion):\n",
        "  losses =[]\n",
        "  for epoch in range(epoch):\n",
        "    for i, (inputs,labels) in enumerate(Data_set):\n",
        "      pred = team_nn(inputs)\n",
        "      loss = criterion(pred,labels)\n",
        "      # running_loss += loss.item()*inputs.size(0)\n",
        "      optimizer.zero_grad()\n",
        "      loss.backward()\n",
        "      optimizer.step()\n",
        "      losses.append(loss)\n",
        "      if (i + epoch * len(Data_set)) % 100 == 0:\n",
        "        print(\"epoch: {}, loss: {}\".format(epoch,loss))\n",
        "        losses.append(loss)\n",
        "  return losses"
      ],
      "metadata": {
        "id": "vCo1myZI9jB1"
      },
      "execution_count": 66,
      "outputs": []
    },
    {
      "cell_type": "code",
      "source": [
        "losses = train(10,optimizer,criterion)"
      ],
      "metadata": {
        "colab": {
          "base_uri": "https://localhost:8080/",
          "height": 380
        },
        "id": "RzbW7-u7_2EW",
        "outputId": "69d0b18d-a532-4b2b-d549-4d4ee614be11"
      },
      "execution_count": 67,
      "outputs": [
        {
          "output_type": "stream",
          "name": "stdout",
          "text": [
            "epoch: 7, loss: 0.03600342199206352\n"
          ]
        },
        {
          "output_type": "error",
          "ename": "KeyboardInterrupt",
          "evalue": "ignored",
          "traceback": [
            "\u001b[0;31m---------------------------------------------------------------------------\u001b[0m",
            "\u001b[0;31mKeyboardInterrupt\u001b[0m                         Traceback (most recent call last)",
            "\u001b[0;32m<ipython-input-67-54571851b826>\u001b[0m in \u001b[0;36m<module>\u001b[0;34m\u001b[0m\n\u001b[0;32m----> 1\u001b[0;31m \u001b[0mlosses\u001b[0m \u001b[0;34m=\u001b[0m \u001b[0mtrain\u001b[0m\u001b[0;34m(\u001b[0m\u001b[0;36m10\u001b[0m\u001b[0;34m,\u001b[0m\u001b[0moptimizer\u001b[0m\u001b[0;34m,\u001b[0m\u001b[0mcriterion\u001b[0m\u001b[0;34m)\u001b[0m\u001b[0;34m\u001b[0m\u001b[0;34m\u001b[0m\u001b[0m\n\u001b[0m",
            "\u001b[0;32m<ipython-input-66-b5768f7af14d>\u001b[0m in \u001b[0;36mtrain\u001b[0;34m(epoch, optimizer, criterion)\u001b[0m\n\u001b[1;32m      8\u001b[0m       \u001b[0moptimizer\u001b[0m\u001b[0;34m.\u001b[0m\u001b[0mzero_grad\u001b[0m\u001b[0;34m(\u001b[0m\u001b[0;34m)\u001b[0m\u001b[0;34m\u001b[0m\u001b[0;34m\u001b[0m\u001b[0m\n\u001b[1;32m      9\u001b[0m       \u001b[0mloss\u001b[0m\u001b[0;34m.\u001b[0m\u001b[0mbackward\u001b[0m\u001b[0;34m(\u001b[0m\u001b[0;34m)\u001b[0m\u001b[0;34m\u001b[0m\u001b[0;34m\u001b[0m\u001b[0m\n\u001b[0;32m---> 10\u001b[0;31m       \u001b[0moptimizer\u001b[0m\u001b[0;34m.\u001b[0m\u001b[0mstep\u001b[0m\u001b[0;34m(\u001b[0m\u001b[0;34m)\u001b[0m\u001b[0;34m\u001b[0m\u001b[0;34m\u001b[0m\u001b[0m\n\u001b[0m\u001b[1;32m     11\u001b[0m       \u001b[0mlosses\u001b[0m\u001b[0;34m.\u001b[0m\u001b[0mappend\u001b[0m\u001b[0;34m(\u001b[0m\u001b[0mloss\u001b[0m\u001b[0;34m)\u001b[0m\u001b[0;34m\u001b[0m\u001b[0;34m\u001b[0m\u001b[0m\n\u001b[1;32m     12\u001b[0m       \u001b[0;32mif\u001b[0m \u001b[0;34m(\u001b[0m\u001b[0mi\u001b[0m \u001b[0;34m+\u001b[0m \u001b[0mepoch\u001b[0m \u001b[0;34m*\u001b[0m \u001b[0mlen\u001b[0m\u001b[0;34m(\u001b[0m\u001b[0mData_set\u001b[0m\u001b[0;34m)\u001b[0m\u001b[0;34m)\u001b[0m \u001b[0;34m%\u001b[0m \u001b[0;36m100\u001b[0m \u001b[0;34m==\u001b[0m \u001b[0;36m0\u001b[0m\u001b[0;34m:\u001b[0m\u001b[0;34m\u001b[0m\u001b[0;34m\u001b[0m\u001b[0m\n",
            "\u001b[0;32m/usr/local/lib/python3.7/dist-packages/torch/optim/optimizer.py\u001b[0m in \u001b[0;36mwrapper\u001b[0;34m(*args, **kwargs)\u001b[0m\n\u001b[1;32m    111\u001b[0m                 \u001b[0mprofile_name\u001b[0m \u001b[0;34m=\u001b[0m \u001b[0;34m\"Optimizer.step#{}.step\"\u001b[0m\u001b[0;34m.\u001b[0m\u001b[0mformat\u001b[0m\u001b[0;34m(\u001b[0m\u001b[0mobj\u001b[0m\u001b[0;34m.\u001b[0m\u001b[0m__class__\u001b[0m\u001b[0;34m.\u001b[0m\u001b[0m__name__\u001b[0m\u001b[0;34m)\u001b[0m\u001b[0;34m\u001b[0m\u001b[0;34m\u001b[0m\u001b[0m\n\u001b[1;32m    112\u001b[0m                 \u001b[0;32mwith\u001b[0m \u001b[0mtorch\u001b[0m\u001b[0;34m.\u001b[0m\u001b[0mautograd\u001b[0m\u001b[0;34m.\u001b[0m\u001b[0mprofiler\u001b[0m\u001b[0;34m.\u001b[0m\u001b[0mrecord_function\u001b[0m\u001b[0;34m(\u001b[0m\u001b[0mprofile_name\u001b[0m\u001b[0;34m)\u001b[0m\u001b[0;34m:\u001b[0m\u001b[0;34m\u001b[0m\u001b[0;34m\u001b[0m\u001b[0m\n\u001b[0;32m--> 113\u001b[0;31m                     \u001b[0;32mreturn\u001b[0m \u001b[0mfunc\u001b[0m\u001b[0;34m(\u001b[0m\u001b[0;34m*\u001b[0m\u001b[0margs\u001b[0m\u001b[0;34m,\u001b[0m \u001b[0;34m**\u001b[0m\u001b[0mkwargs\u001b[0m\u001b[0;34m)\u001b[0m\u001b[0;34m\u001b[0m\u001b[0;34m\u001b[0m\u001b[0m\n\u001b[0m\u001b[1;32m    114\u001b[0m             \u001b[0;32mreturn\u001b[0m \u001b[0mwrapper\u001b[0m\u001b[0;34m\u001b[0m\u001b[0;34m\u001b[0m\u001b[0m\n\u001b[1;32m    115\u001b[0m \u001b[0;34m\u001b[0m\u001b[0m\n",
            "\u001b[0;32m/usr/local/lib/python3.7/dist-packages/torch/autograd/grad_mode.py\u001b[0m in \u001b[0;36mdecorate_context\u001b[0;34m(*args, **kwargs)\u001b[0m\n\u001b[1;32m     25\u001b[0m         \u001b[0;32mdef\u001b[0m \u001b[0mdecorate_context\u001b[0m\u001b[0;34m(\u001b[0m\u001b[0;34m*\u001b[0m\u001b[0margs\u001b[0m\u001b[0;34m,\u001b[0m \u001b[0;34m**\u001b[0m\u001b[0mkwargs\u001b[0m\u001b[0;34m)\u001b[0m\u001b[0;34m:\u001b[0m\u001b[0;34m\u001b[0m\u001b[0;34m\u001b[0m\u001b[0m\n\u001b[1;32m     26\u001b[0m             \u001b[0;32mwith\u001b[0m \u001b[0mself\u001b[0m\u001b[0;34m.\u001b[0m\u001b[0mclone\u001b[0m\u001b[0;34m(\u001b[0m\u001b[0;34m)\u001b[0m\u001b[0;34m:\u001b[0m\u001b[0;34m\u001b[0m\u001b[0;34m\u001b[0m\u001b[0m\n\u001b[0;32m---> 27\u001b[0;31m                 \u001b[0;32mreturn\u001b[0m \u001b[0mfunc\u001b[0m\u001b[0;34m(\u001b[0m\u001b[0;34m*\u001b[0m\u001b[0margs\u001b[0m\u001b[0;34m,\u001b[0m \u001b[0;34m**\u001b[0m\u001b[0mkwargs\u001b[0m\u001b[0;34m)\u001b[0m\u001b[0;34m\u001b[0m\u001b[0;34m\u001b[0m\u001b[0m\n\u001b[0m\u001b[1;32m     28\u001b[0m         \u001b[0;32mreturn\u001b[0m \u001b[0mcast\u001b[0m\u001b[0;34m(\u001b[0m\u001b[0mF\u001b[0m\u001b[0;34m,\u001b[0m \u001b[0mdecorate_context\u001b[0m\u001b[0;34m)\u001b[0m\u001b[0;34m\u001b[0m\u001b[0;34m\u001b[0m\u001b[0m\n\u001b[1;32m     29\u001b[0m \u001b[0;34m\u001b[0m\u001b[0m\n",
            "\u001b[0;32m/usr/local/lib/python3.7/dist-packages/torch/optim/adam.py\u001b[0m in \u001b[0;36mstep\u001b[0;34m(self, closure)\u001b[0m\n\u001b[1;32m    169\u001b[0m                  \u001b[0mmaximize\u001b[0m\u001b[0;34m=\u001b[0m\u001b[0mgroup\u001b[0m\u001b[0;34m[\u001b[0m\u001b[0;34m'maximize'\u001b[0m\u001b[0;34m]\u001b[0m\u001b[0;34m,\u001b[0m\u001b[0;34m\u001b[0m\u001b[0;34m\u001b[0m\u001b[0m\n\u001b[1;32m    170\u001b[0m                  \u001b[0mforeach\u001b[0m\u001b[0;34m=\u001b[0m\u001b[0mgroup\u001b[0m\u001b[0;34m[\u001b[0m\u001b[0;34m'foreach'\u001b[0m\u001b[0;34m]\u001b[0m\u001b[0;34m,\u001b[0m\u001b[0;34m\u001b[0m\u001b[0;34m\u001b[0m\u001b[0m\n\u001b[0;32m--> 171\u001b[0;31m                  capturable=group['capturable'])\n\u001b[0m\u001b[1;32m    172\u001b[0m \u001b[0;34m\u001b[0m\u001b[0m\n\u001b[1;32m    173\u001b[0m         \u001b[0;32mreturn\u001b[0m \u001b[0mloss\u001b[0m\u001b[0;34m\u001b[0m\u001b[0;34m\u001b[0m\u001b[0m\n",
            "\u001b[0;32m/usr/local/lib/python3.7/dist-packages/torch/optim/adam.py\u001b[0m in \u001b[0;36madam\u001b[0;34m(params, grads, exp_avgs, exp_avg_sqs, max_exp_avg_sqs, state_steps, foreach, capturable, amsgrad, beta1, beta2, lr, weight_decay, eps, maximize)\u001b[0m\n\u001b[1;32m    224\u001b[0m          \u001b[0meps\u001b[0m\u001b[0;34m=\u001b[0m\u001b[0meps\u001b[0m\u001b[0;34m,\u001b[0m\u001b[0;34m\u001b[0m\u001b[0;34m\u001b[0m\u001b[0m\n\u001b[1;32m    225\u001b[0m          \u001b[0mmaximize\u001b[0m\u001b[0;34m=\u001b[0m\u001b[0mmaximize\u001b[0m\u001b[0;34m,\u001b[0m\u001b[0;34m\u001b[0m\u001b[0;34m\u001b[0m\u001b[0m\n\u001b[0;32m--> 226\u001b[0;31m          capturable=capturable)\n\u001b[0m\u001b[1;32m    227\u001b[0m \u001b[0;34m\u001b[0m\u001b[0m\n\u001b[1;32m    228\u001b[0m \u001b[0;34m\u001b[0m\u001b[0m\n",
            "\u001b[0;32m/usr/local/lib/python3.7/dist-packages/torch/optim/adam.py\u001b[0m in \u001b[0;36m_single_tensor_adam\u001b[0;34m(params, grads, exp_avgs, exp_avg_sqs, max_exp_avg_sqs, state_steps, amsgrad, beta1, beta2, lr, weight_decay, eps, maximize, capturable)\u001b[0m\n\u001b[1;32m    303\u001b[0m                 \u001b[0mdenom\u001b[0m \u001b[0;34m=\u001b[0m \u001b[0;34m(\u001b[0m\u001b[0mmax_exp_avg_sqs\u001b[0m\u001b[0;34m[\u001b[0m\u001b[0mi\u001b[0m\u001b[0;34m]\u001b[0m\u001b[0;34m.\u001b[0m\u001b[0msqrt\u001b[0m\u001b[0;34m(\u001b[0m\u001b[0;34m)\u001b[0m \u001b[0;34m/\u001b[0m \u001b[0mbias_correction2_sqrt\u001b[0m\u001b[0;34m)\u001b[0m\u001b[0;34m.\u001b[0m\u001b[0madd_\u001b[0m\u001b[0;34m(\u001b[0m\u001b[0meps\u001b[0m\u001b[0;34m)\u001b[0m\u001b[0;34m\u001b[0m\u001b[0;34m\u001b[0m\u001b[0m\n\u001b[1;32m    304\u001b[0m             \u001b[0;32melse\u001b[0m\u001b[0;34m:\u001b[0m\u001b[0;34m\u001b[0m\u001b[0;34m\u001b[0m\u001b[0m\n\u001b[0;32m--> 305\u001b[0;31m                 \u001b[0mdenom\u001b[0m \u001b[0;34m=\u001b[0m \u001b[0;34m(\u001b[0m\u001b[0mexp_avg_sq\u001b[0m\u001b[0;34m.\u001b[0m\u001b[0msqrt\u001b[0m\u001b[0;34m(\u001b[0m\u001b[0;34m)\u001b[0m \u001b[0;34m/\u001b[0m \u001b[0mbias_correction2_sqrt\u001b[0m\u001b[0;34m)\u001b[0m\u001b[0;34m.\u001b[0m\u001b[0madd_\u001b[0m\u001b[0;34m(\u001b[0m\u001b[0meps\u001b[0m\u001b[0;34m)\u001b[0m\u001b[0;34m\u001b[0m\u001b[0;34m\u001b[0m\u001b[0m\n\u001b[0m\u001b[1;32m    306\u001b[0m \u001b[0;34m\u001b[0m\u001b[0m\n\u001b[1;32m    307\u001b[0m             \u001b[0mparam\u001b[0m\u001b[0;34m.\u001b[0m\u001b[0maddcdiv_\u001b[0m\u001b[0;34m(\u001b[0m\u001b[0mexp_avg\u001b[0m\u001b[0;34m,\u001b[0m \u001b[0mdenom\u001b[0m\u001b[0;34m,\u001b[0m \u001b[0mvalue\u001b[0m\u001b[0;34m=\u001b[0m\u001b[0;34m-\u001b[0m\u001b[0mstep_size\u001b[0m\u001b[0;34m)\u001b[0m\u001b[0;34m\u001b[0m\u001b[0;34m\u001b[0m\u001b[0m\n",
            "\u001b[0;31mKeyboardInterrupt\u001b[0m: "
          ]
        }
      ]
    }
  ]
}